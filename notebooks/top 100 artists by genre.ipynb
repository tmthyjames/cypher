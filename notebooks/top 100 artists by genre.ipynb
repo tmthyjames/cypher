{
 "cells": [
  {
   "cell_type": "markdown",
   "metadata": {},
   "source": [
    "## things to predict:\n",
    "\n",
    "can you predict a genre given the bands name?\n",
    "\n",
    "can you predict what decade a rapper/song belongs to?\n",
    "\n",
    "can you predict what region a rapper/song belongs to? (midwest, south, east, west; maybe even more specific: atlanta, compton, california, NY, detroit)\n",
    "\n",
    "can you predict artist who are in the rock and roll hall of fame?\n",
    "\n",
    "topic modeling on best rap albums of all time"
   ]
  },
  {
   "cell_type": "markdown",
   "metadata": {},
   "source": [
    "## classic rock\n",
    "\n",
    "https://cache-api.ranker.com/lists/691782/items?limit=50&offset=50&include=votes,wikiText,rankings,openListItemContributors&propertyFetchType=ALL&liCacheKey=null"
   ]
  },
  {
   "cell_type": "markdown",
   "metadata": {},
   "source": [
    "## alt rock\n",
    "\n",
    "https://cache-api.ranker.com/lists/336858/items?limit=50&offset=50&include=votes,wikiText,rankings,openListItemContributors&propertyFetchType=ALL&liCacheKey=null&useDefaultNodeLinks=true"
   ]
  },
  {
   "cell_type": "markdown",
   "metadata": {},
   "source": [
    "# indie folk\n",
    "\n",
    "https://cache-api.ranker.com/lists/101521/items?limit=50&offset=50&include=votes,wikiText,rankings,openListItemContributors&propertyFetchType=ALL&liCacheKey=null&useDefaultNodeLinks=true"
   ]
  },
  {
   "cell_type": "markdown",
   "metadata": {},
   "source": [
    "## RnB\n",
    "\n",
    "https://cache-api.ranker.com/lists/1055563/items?limit=50&offset=50&include=votes,wikiText,rankings,openListItemContributors&propertyFetchType=ALL&liCacheKey=null"
   ]
  },
  {
   "cell_type": "markdown",
   "metadata": {},
   "source": [
    "## punk rock\n",
    "\n",
    "https://cache-api.ranker.com/lists/315079/items?limit=50&offset=50&include=votes,wikiText,rankings,openListItemContributors&propertyFetchType=ALL&liCacheKey=null"
   ]
  },
  {
   "cell_type": "markdown",
   "metadata": {},
   "source": [
    "## screamo\n",
    "\n",
    "https://cache-api.ranker.com/lists/699150/items?limit=50&offset=50&include=votes,wikiText,rankings,openListItemContributors&propertyFetchType=ALL&liCacheKey=null"
   ]
  },
  {
   "cell_type": "markdown",
   "metadata": {},
   "source": [
    "## country artists\n",
    "\n",
    "https://cache-api.ranker.com/lists/588387/items?limit=100&offset=0&include=votes,wikiText,rankings,openListItemContributors&propertyFetchType=ALL&liCacheKey=null"
   ]
  },
  {
   "cell_type": "code",
   "execution_count": 13,
   "metadata": {
    "collapsed": false
   },
   "outputs": [
    {
     "name": "stdout",
     "output_type": "stream",
     "text": [
      "[u'Bring Me The Horizon', u'Asking Alexandria', u'Of Mice & Men', u'A Day To Remember', u'Sleeping With Sirens', u'Falling in Reverse', u'Suicide Silence', u'Motionless In White', u'Black Veil Brides', u'Escape The Fate', u'The Devil Wears Prada', u'Pierce the Veil', u'Slipknot', u'Bullet for My Valentine', u'Memphis May Fire', u'Blessthefall', u'We Came as Romans', u'Panic! at the Disco', u'Miss May I', u'My Chemical Romance', u'Crown the Empire', u'Eyes Set to Kill', u'Five Finger Death Punch', u'Alesana', u'All Time Low', u'August Burns Red', u'Fall Out Boy', u'System of a Down', u'A Skylit Drive', u'The Used', u'Silverstein', u'Nirvana', u'All That Remains', u'Paramore', u'Killswitch Engage', u'Chiodos', u'Atreyu', u'Whitechapel', u'Famous Last Words', u'Attack Attack!', u'Alexisonfire', u'Underoath', u'Get Scared', u'Funeral for a Friend', u'Marilyn Manson', u'Senses Fail', u'Hawthorne Heights', u'Scary Kids Scaring Kids', u'You Me At Six', u'Evanescence', u'Frank Iero', u'Vampires Everywhere!', u'Emmure', u'The Amity Affliction', u'Dance Gavin Dance', u'Three Days Grace', u'Twenty One Pilots', u'Emery', u'Capture the Crown', u'We Butter the Bread With Butter', u'In Fear and Faith', u'Fit for Rivals', u'Issues', u'Circle Takes the Square', u'Blood on the Dance Floor', u'La Dispute', u'I Set My Friends on Fire', u'Thursday', u'City of Caterpillar', u'The Architects', u'pg.99', u'Yellowcard', u'Drop Dead, Gorgeous', u'Orchid', u'Saetia', u'From First to Last', u'Enter Shikari', u'Hollywood Undead', u'Chelsea Grin', u'A Static Lullaby', u'Haste The Day', u'Fear Before the March of Flames', u'Demon Hunter', u'Envy', u'Nickelback', u'Before Their Eyes', u'Funeral Diner', u'New Years Day', u'I Am Ghost', u'Boysetsfire', u'30 Seconds to Mars', u'Fear, and Loathing in Las Vegas', u'Drowningman', u'From Autumn to Ashes', u'The Blackout', u'Abandon All Ships', u'Ice Nine Kills', u'Burden of a Day', u'iwrestledabearonce', u'Slayer']\n"
     ]
    }
   ],
   "source": [
    "import requests\n",
    "\n",
    "url = 'https://cache-api.ranker.com/lists/699150/items?limit=100&offset=0&include=votes,wikiText,rankings,openListItemContributors&propertyFetchType=ALL&liCacheKey=null'\n",
    "r = requests.get(url)\n",
    "data = r.json()\n",
    "artists = [i['name'] for i in data['listItems']]\n",
    "\n",
    "print(artists)"
   ]
  },
  {
   "cell_type": "code",
   "execution_count": 14,
   "metadata": {
    "collapsed": true
   },
   "outputs": [],
   "source": [
    "import sqlalchemy\n",
    "\n",
    "engine = sqlalchemy.create_engine('')"
   ]
  },
  {
   "cell_type": "code",
   "execution_count": null,
   "metadata": {
    "collapsed": false,
    "scrolled": true
   },
   "outputs": [
    {
     "name": "stderr",
     "output_type": "stream",
     "text": [
      "2018-01-30 19:06:24,071 : INFO : GET Artist URL: http://lyrics.wikia.com/wiki/Bring_Me_The_Horizon\n",
      "2018-01-30 19:06:24,439 : INFO : GET Artist Album: That's the Spirit (2015)\n",
      "2018-01-30 19:06:29,284 : INFO : GET Artist Album Successful: That's the Spirit (2015)\n",
      "2018-01-30 19:06:29,285 : INFO : GET Artist Album: Count Your Blessings (2006)\n",
      "2018-01-30 19:06:34,976 : INFO : GET Artist Album Successful: Count Your Blessings (2006)\n",
      "2018-01-30 19:06:34,977 : INFO : GET Artist Album: Suicide Season: Cut Up! (2009)\n",
      "2018-01-30 19:06:40,420 : INFO : GET Artist Album Successful: Suicide Season: Cut Up! (2009)\n",
      "2018-01-30 19:06:40,420 : INFO : GET Artist Album: Don't Look Down (2014)\n",
      "2018-01-30 19:06:40,682 : INFO : GET Artist Album Successful: Don't Look Down (2014)\n",
      "2018-01-30 19:06:40,683 : INFO : GET Artist Album: Sempiternal (2013)\n",
      "2018-01-30 19:06:45,858 : INFO : GET Artist Album Successful: Sempiternal (2013)\n",
      "2018-01-30 19:06:45,859 : INFO : GET Artist Album: Misc (0000)\n",
      "2018-01-30 19:06:45,860 : INFO : GET Artist Album Successful: Misc (0000)\n",
      "2018-01-30 19:06:45,860 : INFO : GET Artist Album: The Bedroom Sessions (2004)\n",
      "2018-01-30 19:06:52,888 : INFO : GET Artist Album Successful: The Bedroom Sessions (2004)\n",
      "2018-01-30 19:06:52,889 : INFO : GET Artist Album: This Is What the Edge of Your Seat Was Made For (2005)\n",
      "2018-01-30 19:06:56,567 : INFO : GET Artist Album Successful: This Is What the Edge of Your Seat Was Made For (2005)\n",
      "2018-01-30 19:06:56,568 : INFO : GET Artist Album: There Is a Hell, Believe Me I've Seen It. There Is a Heaven, Let's Keep It a Secret. (2010)\n",
      "2018-01-30 19:07:06,595 : INFO : GET Artist Album Successful: There Is a Hell, Believe Me I've Seen It. There Is a Heaven, Let's Keep It a Secret. (2010)\n",
      "2018-01-30 19:07:06,596 : INFO : GET Artist Album: Suicide Season (2008)\n",
      "2018-01-30 19:07:08,634 : INFO : GET Artist Album Successful: Suicide Season (2008)\n"
     ]
    },
    {
     "name": "stdout",
     "output_type": "stream",
     "text": [
      "done Bring Me The Horizon\n"
     ]
    },
    {
     "name": "stderr",
     "output_type": "stream",
     "text": [
      "2018-01-30 19:07:09,744 : INFO : GET Artist URL: http://lyrics.wikia.com/wiki/Asking_Alexandria\n",
      "2018-01-30 19:07:10,079 : INFO : GET Artist Album: Misc (0000)\n",
      "2018-01-30 19:07:10,080 : INFO : GET Artist Album Successful: Misc (0000)\n",
      "2018-01-30 19:07:10,081 : INFO : GET Artist Album: Edit\n",
      "2018-01-30 19:07:18,225 : INFO : GET Artist Album Successful: Edit\n",
      "2018-01-30 19:07:18,226 : INFO : GET Artist Album: Stand Up and Scream (2009)\n",
      "2018-01-30 19:07:23,635 : INFO : GET Artist Album Successful: Stand Up and Scream (2009)\n",
      "2018-01-30 19:07:23,636 : INFO : GET Artist Album: Reckless & Relentless (2011)\n",
      "2018-01-30 19:07:38,194 : INFO : GET Artist Album Successful: Reckless & Relentless (2011)\n",
      "2018-01-30 19:07:38,195 : INFO : GET Artist Album: Asking Alexandria (2017)\n",
      "2018-01-30 19:07:43,586 : INFO : GET Artist Album Successful: Asking Alexandria (2017)\n",
      "2018-01-30 19:07:43,587 : INFO : GET Artist Album: From Death to Destiny (2013)\n",
      "2018-01-30 19:07:54,342 : INFO : GET Artist Album Successful: From Death to Destiny (2013)\n",
      "2018-01-30 19:07:54,343 : INFO : GET Artist Album: The Black (2016)\n",
      "2018-01-30 19:08:00,182 : INFO : GET Artist Album Successful: The Black (2016)\n"
     ]
    },
    {
     "name": "stdout",
     "output_type": "stream",
     "text": [
      "done Asking Alexandria\n"
     ]
    },
    {
     "name": "stderr",
     "output_type": "stream",
     "text": [
      "2018-01-30 19:08:01,050 : INFO : GET Artist URL: http://lyrics.wikia.com/wiki/Of_Mice_%26_Men\n",
      "2018-01-30 19:08:01,373 : INFO : GET Artist Album: Misc (0000)\n",
      "2018-01-30 19:08:01,374 : INFO : GET Artist Album Successful: Misc (0000)\n",
      "2018-01-30 19:08:01,374 : INFO : GET Artist Album: Defy (2018)\n",
      "2018-01-30 19:08:09,063 : INFO : GET Artist Album Successful: Defy (2018)\n",
      "2018-01-30 19:08:09,064 : INFO : GET Artist Album: Of Mice & Men (2010)\n",
      "2018-01-30 19:08:21,774 : INFO : GET Artist Album Successful: Of Mice & Men (2010)\n",
      "2018-01-30 19:08:21,775 : INFO : GET Artist Album: The Flood (2011)\n",
      "2018-01-30 19:08:30,615 : INFO : GET Artist Album Successful: The Flood (2011)\n",
      "2018-01-30 19:08:30,616 : INFO : GET Artist Album: Edit\n",
      "2018-01-30 19:08:30,617 : INFO : GET Artist Album Successful: Edit\n",
      "2018-01-30 19:08:30,617 : INFO : GET Artist Album: Restoring Force (2014)\n",
      "2018-01-30 19:08:50,041 : INFO : GET Artist Album Successful: Restoring Force (2014)\n",
      "2018-01-30 19:08:50,042 : INFO : GET Artist Album: Cold World (2016)\n",
      "2018-01-30 19:09:08,315 : INFO : GET Artist Album Successful: Cold World (2016)\n"
     ]
    },
    {
     "name": "stdout",
     "output_type": "stream",
     "text": [
      "done Of Mice & Men\n"
     ]
    },
    {
     "name": "stderr",
     "output_type": "stream",
     "text": [
      "2018-01-30 19:09:10,093 : INFO : GET Artist URL: http://lyrics.wikia.com/wiki/A_Day_To_Remember\n",
      "2018-01-30 19:09:12,958 : INFO : GET Artist Album: For Those Who Have Heart (2007)\n",
      "2018-01-30 19:09:18,105 : INFO : GET Artist Album Successful: For Those Who Have Heart (2007)\n",
      "2018-01-30 19:09:18,106 : INFO : GET Artist Album: Misc (0000)\n",
      "2018-01-30 19:09:18,107 : INFO : GET Artist Album Successful: Misc (0000)\n",
      "2018-01-30 19:09:18,107 : INFO : GET Artist Album: 2004 Demos (2004)\n",
      "2018-01-30 19:09:22,525 : INFO : GET Artist Album Successful: 2004 Demos (2004)\n",
      "2018-01-30 19:09:22,526 : INFO : GET Artist Album: What Separates Me from You (2010)\n",
      "2018-01-30 19:09:26,517 : INFO : GET Artist Album Successful: What Separates Me from You (2010)\n",
      "2018-01-30 19:09:26,518 : INFO : GET Artist Album: Homesick (2009)\n",
      "2018-01-30 19:09:31,692 : INFO : GET Artist Album Successful: Homesick (2009)\n",
      "2018-01-30 19:09:31,692 : INFO : GET Artist Album: Attack of the Killer B-Sides (2010)\n",
      "2018-01-30 19:09:34,035 : INFO : GET Artist Album Successful: Attack of the Killer B-Sides (2010)\n",
      "2018-01-30 19:09:34,036 : INFO : GET Artist Album: Common Courtesy (2013)\n",
      "2018-01-30 19:09:38,592 : INFO : GET Artist Album Successful: Common Courtesy (2013)\n",
      "2018-01-30 19:09:38,593 : INFO : GET Artist Album: Bad Vibrations (2016)\n",
      "2018-01-30 19:09:45,681 : INFO : GET Artist Album Successful: Bad Vibrations (2016)\n",
      "2018-01-30 19:09:45,682 : INFO : GET Artist Album: And Their Name Was Treason (2005)\n",
      "2018-01-30 19:09:57,713 : INFO : GET Artist Album Successful: And Their Name Was Treason (2005)\n"
     ]
    },
    {
     "name": "stdout",
     "output_type": "stream",
     "text": [
      "done A Day To Remember\n"
     ]
    },
    {
     "name": "stderr",
     "output_type": "stream",
     "text": [
      "2018-01-30 19:09:59,034 : INFO : GET Artist URL: http://lyrics.wikia.com/wiki/Sleeping_With_Sirens\n",
      "2018-01-30 19:09:59,362 : INFO : GET Artist Album: Misc (0000)\n",
      "2018-01-30 19:09:59,363 : INFO : GET Artist Album Successful: Misc (0000)\n",
      "2018-01-30 19:09:59,364 : INFO : GET Artist Album: If You Were a Movie, This Would Be Your Soundtrack (2012)\n",
      "2018-01-30 19:10:02,615 : INFO : GET Artist Album Successful: If You Were a Movie, This Would Be Your Soundtrack (2012)\n",
      "2018-01-30 19:10:02,616 : INFO : GET Artist Album: Edit\n",
      "2018-01-30 19:10:02,616 : INFO : GET Artist Album Successful: Edit\n",
      "2018-01-30 19:10:02,617 : INFO : GET Artist Album: Gossip (2017)\n",
      "2018-01-30 19:10:17,416 : INFO : GET Artist Album Successful: Gossip (2017)\n",
      "2018-01-30 19:10:17,417 : INFO : GET Artist Album: Let's Cheers to This (2011)\n",
      "2018-01-30 19:10:26,750 : INFO : GET Artist Album Successful: Let's Cheers to This (2011)\n",
      "2018-01-30 19:10:26,751 : INFO : GET Artist Album: Feel (2013)\n",
      "2018-01-30 19:10:31,651 : INFO : GET Artist Album Successful: Feel (2013)\n",
      "2018-01-30 19:10:31,652 : INFO : GET Artist Album: With Ears to See and Eyes to Hear (2010)\n",
      "2018-01-30 19:10:38,954 : INFO : GET Artist Album Successful: With Ears to See and Eyes to Hear (2010)\n",
      "2018-01-30 19:10:38,955 : INFO : GET Artist Album: Madness (2015)\n",
      "2018-01-30 19:10:49,444 : INFO : GET Artist Album Successful: Madness (2015)\n"
     ]
    },
    {
     "name": "stdout",
     "output_type": "stream",
     "text": [
      "done Sleeping With Sirens\n"
     ]
    },
    {
     "name": "stderr",
     "output_type": "stream",
     "text": [
      "2018-01-30 19:10:52,071 : INFO : GET Artist URL: http://lyrics.wikia.com/wiki/Falling_In_Reverse\n",
      "2018-01-30 19:10:52,953 : INFO : GET Artist Album: The Drug in Me Is You (2011)\n",
      "2018-01-30 19:11:04,484 : INFO : GET Artist Album Successful: The Drug in Me Is You (2011)\n",
      "2018-01-30 19:11:04,485 : INFO : GET Artist Album: Edit\n",
      "2018-01-30 19:11:04,486 : INFO : GET Artist Album Successful: Edit\n",
      "2018-01-30 19:11:04,487 : INFO : GET Artist Album: Fashionably Late (2013)\n",
      "2018-01-30 19:11:12,167 : INFO : GET Artist Album Successful: Fashionably Late (2013)\n",
      "2018-01-30 19:11:12,168 : INFO : GET Artist Album: Misc (0000)\n",
      "2018-01-30 19:11:12,168 : INFO : GET Artist Album Successful: Misc (0000)\n",
      "2018-01-30 19:11:12,169 : INFO : GET Artist Album: Coming Home (2017)\n",
      "2018-01-30 19:11:25,070 : INFO : GET Artist Album Successful: Coming Home (2017)\n",
      "2018-01-30 19:11:25,071 : INFO : GET Artist Album: Just Like You (2015)\n",
      "2018-01-30 19:11:39,845 : INFO : GET Artist Album Successful: Just Like You (2015)\n"
     ]
    },
    {
     "name": "stdout",
     "output_type": "stream",
     "text": [
      "done Falling in Reverse\n"
     ]
    },
    {
     "name": "stderr",
     "output_type": "stream",
     "text": [
      "2018-01-30 19:11:41,139 : INFO : GET Artist URL: http://lyrics.wikia.com/wiki/Suicide_Silence\n",
      "2018-01-30 19:11:43,633 : INFO : GET Artist Album: Misc (0000)\n",
      "2018-01-30 19:11:43,633 : INFO : GET Artist Album Successful: Misc (0000)\n",
      "2018-01-30 19:11:43,634 : INFO : GET Artist Album: Green  Monster (2008)\n",
      "2018-01-30 19:11:49,926 : INFO : GET Artist Album Successful: Green  Monster (2008)\n",
      "2018-01-30 19:11:49,927 : INFO : GET Artist Album: Edit\n",
      "2018-01-30 19:11:55,637 : INFO : GET Artist Album Successful: Edit\n",
      "2018-01-30 19:11:55,638 : INFO : GET Artist Album: The Cleansing (2007)\n",
      "2018-01-30 19:12:06,253 : INFO : GET Artist Album Successful: The Cleansing (2007)\n",
      "2018-01-30 19:12:06,254 : INFO : GET Artist Album: You Can't Stop Me (2014)\n",
      "2018-01-30 19:12:23,865 : INFO : GET Artist Album Successful: You Can't Stop Me (2014)\n",
      "2018-01-30 19:12:23,866 : INFO : GET Artist Album: No Time To Bleed (2009)\n",
      "2018-01-30 19:12:40,951 : INFO : GET Artist Album Successful: No Time To Bleed (2009)\n",
      "2018-01-30 19:12:40,952 : INFO : GET Artist Album: Suicide Silence (2017)\n",
      "2018-01-30 19:12:54,062 : INFO : GET Artist Album Successful: Suicide Silence (2017)\n",
      "2018-01-30 19:12:54,063 : INFO : GET Artist Album: Suicide Silence (2005)\n",
      "2018-01-30 19:13:01,414 : INFO : GET Artist Album Successful: Suicide Silence (2005)\n",
      "2018-01-30 19:13:01,415 : INFO : GET Artist Album: The Black Crown (2011)\n",
      "2018-01-30 19:13:14,992 : INFO : GET Artist Album Successful: The Black Crown (2011)\n"
     ]
    },
    {
     "name": "stdout",
     "output_type": "stream",
     "text": [
      "done Suicide Silence\n"
     ]
    },
    {
     "name": "stderr",
     "output_type": "stream",
     "text": [
      "2018-01-30 19:13:17,103 : INFO : GET Artist URL: http://lyrics.wikia.com/wiki/Motionless_In_White\n",
      "2018-01-30 19:13:17,422 : INFO : GET Artist Album: Misc (0000)\n",
      "2018-01-30 19:13:17,423 : INFO : GET Artist Album Successful: Misc (0000)\n",
      "2018-01-30 19:13:17,424 : INFO : GET Artist Album: When Love Met Destruction (2008)\n",
      "2018-01-30 19:13:31,657 : INFO : GET Artist Album Successful: When Love Met Destruction (2008)\n",
      "2018-01-30 19:13:31,658 : INFO : GET Artist Album: Creatures (2010)\n",
      "2018-01-30 19:13:41,962 : INFO : GET Artist Album Successful: Creatures (2010)\n",
      "2018-01-30 19:13:41,963 : INFO : GET Artist Album: Infamous (2012)\n",
      "2018-01-30 19:14:00,069 : INFO : GET Artist Album Successful: Infamous (2012)\n",
      "2018-01-30 19:14:00,070 : INFO : GET Artist Album: Graveyard Shift (2017)\n",
      "2018-01-30 19:14:07,635 : INFO : GET Artist Album Successful: Graveyard Shift (2017)\n",
      "2018-01-30 19:14:07,635 : INFO : GET Artist Album: Edit\n",
      "2018-01-30 19:14:12,323 : INFO : GET Artist Album Successful: Edit\n",
      "2018-01-30 19:14:12,324 : INFO : GET Artist Album: The Whorror (2007)\n",
      "2018-01-30 19:14:19,592 : INFO : GET Artist Album Successful: The Whorror (2007)\n",
      "2018-01-30 19:14:19,593 : INFO : GET Artist Album: Reincarnate (2014)\n",
      "2018-01-30 19:14:29,932 : INFO : GET Artist Album Successful: Reincarnate (2014)\n"
     ]
    },
    {
     "name": "stdout",
     "output_type": "stream",
     "text": [
      "done Motionless In White\n"
     ]
    },
    {
     "name": "stderr",
     "output_type": "stream",
     "text": [
      "2018-01-30 19:14:31,445 : INFO : GET Artist URL: http://lyrics.wikia.com/wiki/Black_Veil_Brides\n",
      "2018-01-30 19:14:31,771 : INFO : GET Artist Album: Wretched and Divine: The Story of the Wild Ones (2013)\n",
      "2018-01-30 19:14:42,804 : INFO : GET Artist Album Successful: Wretched and Divine: The Story of the Wild Ones (2013)\n",
      "2018-01-30 19:14:42,804 : INFO : GET Artist Album: Rebels (2011)\n",
      "2018-01-30 19:14:44,037 : INFO : GET Artist Album Successful: Rebels (2011)\n",
      "2018-01-30 19:14:44,038 : INFO : GET Artist Album: Misc (0000)\n",
      "2018-01-30 19:14:44,039 : INFO : GET Artist Album Successful: Misc (0000)\n",
      "2018-01-30 19:14:44,040 : INFO : GET Artist Album: We Stitch These Wounds (2010)\n",
      "2018-01-30 19:14:48,267 : INFO : GET Artist Album Successful: We Stitch These Wounds (2010)\n",
      "2018-01-30 19:14:48,268 : INFO : GET Artist Album: Vale (2018)\n",
      "2018-01-30 19:14:52,543 : INFO : GET Artist Album Successful: Vale (2018)\n",
      "2018-01-30 19:14:52,544 : INFO : GET Artist Album: Edit\n",
      "2018-01-30 19:14:53,847 : INFO : GET Artist Album Successful: Edit\n",
      "2018-01-30 19:14:53,848 : INFO : GET Artist Album: Set the World on Fire (2011)\n",
      "2018-01-30 19:14:57,958 : INFO : GET Artist Album Successful: Set the World on Fire (2011)\n",
      "2018-01-30 19:14:57,959 : INFO : GET Artist Album: Black Veil Brides (2014)\n",
      "2018-01-30 19:15:04,363 : INFO : GET Artist Album Successful: Black Veil Brides (2014)\n",
      "2018-01-30 19:15:04,364 : INFO : GET Artist Album: Sex & Hollywood (2007)\n",
      "2018-01-30 19:15:05,394 : INFO : GET Artist Album Successful: Sex & Hollywood (2007)\n"
     ]
    },
    {
     "name": "stdout",
     "output_type": "stream",
     "text": [
      "done Black Veil Brides\n"
     ]
    },
    {
     "name": "stderr",
     "output_type": "stream",
     "text": [
      "2018-01-30 19:15:06,412 : INFO : GET Artist URL: http://lyrics.wikia.com/wiki/Escape_The_Fate\n",
      "2018-01-30 19:15:06,971 : INFO : GET Artist Album: Situations (2007)\n",
      "2018-01-30 19:15:07,482 : INFO : GET Artist Album Successful: Situations (2007)\n",
      "2018-01-30 19:15:07,483 : INFO : GET Artist Album: Escape the Fate (2005)\n",
      "2018-01-30 19:15:11,184 : INFO : GET Artist Album Successful: Escape the Fate (2005)\n",
      "2018-01-30 19:15:11,185 : INFO : GET Artist Album: Edit\n",
      "2018-01-30 19:15:11,185 : INFO : GET Artist Album Successful: Edit\n",
      "2018-01-30 19:15:11,186 : INFO : GET Artist Album: This War Is Ours (2008)\n",
      "2018-01-30 19:15:16,469 : INFO : GET Artist Album Successful: This War Is Ours (2008)\n",
      "2018-01-30 19:15:16,469 : INFO : GET Artist Album: There's No Sympathy for the Dead (2006)\n",
      "2018-01-30 19:15:18,037 : INFO : GET Artist Album Successful: There's No Sympathy for the Dead (2006)\n",
      "2018-01-30 19:15:18,038 : INFO : GET Artist Album: Misc (0000)\n",
      "2018-01-30 19:15:18,039 : INFO : GET Artist Album Successful: Misc (0000)\n",
      "2018-01-30 19:15:18,040 : INFO : GET Artist Album: Escape the Fate (2010)\n",
      "2018-01-30 19:15:25,701 : INFO : GET Artist Album Successful: Escape the Fate (2010)\n",
      "2018-01-30 19:15:25,701 : INFO : GET Artist Album: Dying Is Your Latest Fashion (2006)\n",
      "2018-01-30 19:15:28,952 : INFO : GET Artist Album Successful: Dying Is Your Latest Fashion (2006)\n",
      "2018-01-30 19:15:28,953 : INFO : GET Artist Album: Hate Me (2015)\n",
      "2018-01-30 19:15:34,544 : INFO : GET Artist Album Successful: Hate Me (2015)\n",
      "2018-01-30 19:15:34,545 : INFO : GET Artist Album: Ungrateful (2013)\n",
      "2018-01-30 19:15:39,929 : INFO : GET Artist Album Successful: Ungrateful (2013)\n"
     ]
    },
    {
     "name": "stdout",
     "output_type": "stream",
     "text": [
      "done Escape The Fate\n"
     ]
    },
    {
     "name": "stderr",
     "output_type": "stream",
     "text": [
      "2018-01-30 19:15:41,257 : INFO : GET Artist URL: http://lyrics.wikia.com/wiki/The_Devil_Wears_Prada\n",
      "2018-01-30 19:15:41,761 : INFO : GET Artist Album: Transit Blues (2016)\n",
      "2018-01-30 19:15:46,205 : INFO : GET Artist Album Successful: Transit Blues (2016)\n",
      "2018-01-30 19:15:46,206 : INFO : GET Artist Album: Space (2015)\n",
      "2018-01-30 19:15:50,819 : INFO : GET Artist Album Successful: Space (2015)\n",
      "2018-01-30 19:15:50,819 : INFO : GET Artist Album: 8:18 (2013)\n",
      "2018-01-30 19:15:56,155 : INFO : GET Artist Album Successful: 8:18 (2013)\n",
      "2018-01-30 19:15:56,156 : INFO : GET Artist Album: Edit\n",
      "2018-01-30 19:15:57,321 : INFO : GET Artist Album Successful: Edit\n",
      "2018-01-30 19:15:57,322 : INFO : GET Artist Album: Patterns of a Horizon (2005)\n",
      "2018-01-30 19:16:03,609 : INFO : GET Artist Album Successful: Patterns of a Horizon (2005)\n",
      "2018-01-30 19:16:03,610 : INFO : GET Artist Album: With Roots Above and Branches Below (2009)\n",
      "2018-01-30 19:16:13,103 : INFO : GET Artist Album Successful: With Roots Above and Branches Below (2009)\n",
      "2018-01-30 19:16:13,104 : INFO : GET Artist Album: Misc (0000)\n",
      "2018-01-30 19:16:13,105 : INFO : GET Artist Album Successful: Misc (0000)\n",
      "2018-01-30 19:16:13,106 : INFO : GET Artist Album: Plagues (2007)\n",
      "2018-01-30 19:16:19,110 : INFO : GET Artist Album Successful: Plagues (2007)\n",
      "2018-01-30 19:16:19,111 : INFO : GET Artist Album: Zombie EP (2010)\n",
      "2018-01-30 19:16:23,491 : INFO : GET Artist Album Successful: Zombie EP (2010)\n",
      "2018-01-30 19:16:23,492 : INFO : GET Artist Album: Dead Throne (2011)\n",
      "2018-01-30 19:16:34,738 : INFO : GET Artist Album Successful: Dead Throne (2011)\n",
      "2018-01-30 19:16:34,739 : INFO : GET Artist Album: Dear Love: A Beautiful Discord (2006)\n",
      "2018-01-30 19:16:38,329 : INFO : GET Artist Album Successful: Dear Love: A Beautiful Discord (2006)\n"
     ]
    },
    {
     "name": "stdout",
     "output_type": "stream",
     "text": [
      "done The Devil Wears Prada\n"
     ]
    },
    {
     "name": "stderr",
     "output_type": "stream",
     "text": [
      "2018-01-30 19:16:40,443 : INFO : GET Artist URL: http://lyrics.wikia.com/wiki/Pierce_The_Veil\n",
      "2018-01-30 19:16:42,284 : INFO : GET Artist Album: Misc (0000)\n",
      "2018-01-30 19:16:42,285 : INFO : GET Artist Album Successful: Misc (0000)\n",
      "2018-01-30 19:16:42,286 : INFO : GET Artist Album: Edit\n",
      "2018-01-30 19:16:46,406 : INFO : GET Artist Album Successful: Edit\n",
      "2018-01-30 19:16:46,407 : INFO : GET Artist Album: Misadventures (2016)\n",
      "2018-01-30 19:16:51,165 : INFO : GET Artist Album Successful: Misadventures (2016)\n",
      "2018-01-30 19:16:51,166 : INFO : GET Artist Album: Collide with the Sky (2012)\n",
      "2018-01-30 19:17:00,944 : INFO : GET Artist Album Successful: Collide with the Sky (2012)\n",
      "2018-01-30 19:17:00,945 : INFO : GET Artist Album: Selfish Machines (2010)\n",
      "2018-01-30 19:17:09,576 : INFO : GET Artist Album Successful: Selfish Machines (2010)\n",
      "2018-01-30 19:17:09,576 : INFO : GET Artist Album: A Flair for the Dramatic (2007)\n",
      "2018-01-30 19:17:23,836 : INFO : GET Artist Album Successful: A Flair for the Dramatic (2007)\n"
     ]
    },
    {
     "name": "stdout",
     "output_type": "stream",
     "text": [
      "done Pierce the Veil\n"
     ]
    },
    {
     "name": "stderr",
     "output_type": "stream",
     "text": [
      "2018-01-30 19:17:25,710 : INFO : GET Artist URL: http://lyrics.wikia.com/wiki/Slipknot\n",
      "2018-01-30 19:17:26,052 : INFO : GET Artist Album: Vol. 3: (The Subliminal Verses) (2004)\n",
      "2018-01-30 19:17:37,725 : INFO : GET Artist Album Successful: Vol. 3: (The Subliminal Verses) (2004)\n",
      "2018-01-30 19:17:37,726 : INFO : GET Artist Album: Misc (0000)\n",
      "2018-01-30 19:17:37,727 : INFO : GET Artist Album Successful: Misc (0000)\n",
      "2018-01-30 19:17:37,727 : INFO : GET Artist Album: .5: The Gray Chapter (2014)\n",
      "2018-01-30 19:17:44,235 : INFO : GET Artist Album Successful: .5: The Gray Chapter (2014)\n",
      "2018-01-30 19:17:44,236 : INFO : GET Artist Album: Edit\n",
      "2018-01-30 19:17:52,394 : INFO : GET Artist Album Successful: Edit\n",
      "2018-01-30 19:17:52,395 : INFO : GET Artist Album: Mate.Feed.Kill.Repeat. (1996)\n",
      "2018-01-30 19:17:58,374 : INFO : GET Artist Album Successful: Mate.Feed.Kill.Repeat. (1996)\n",
      "2018-01-30 19:17:58,374 : INFO : GET Artist Album: All Hope Is Gone (2008)\n",
      "2018-01-30 19:18:03,503 : INFO : GET Artist Album Successful: All Hope Is Gone (2008)\n",
      "2018-01-30 19:18:03,504 : INFO : GET Artist Album: Slipknot (1999)\n",
      "2018-01-30 19:18:09,523 : INFO : GET Artist Album Successful: Slipknot (1999)\n",
      "2018-01-30 19:18:09,524 : INFO : GET Artist Album: Iowa (2001)\n",
      "2018-01-30 19:18:14,809 : INFO : GET Artist Album Successful: Iowa (2001)\n"
     ]
    },
    {
     "name": "stdout",
     "output_type": "stream",
     "text": [
      "done Slipknot\n"
     ]
    },
    {
     "name": "stderr",
     "output_type": "stream",
     "text": [
      "2018-01-30 19:18:15,920 : INFO : GET Artist URL: http://lyrics.wikia.com/wiki/Bullet_For_My_Valentine\n",
      "2018-01-30 19:18:16,500 : INFO : GET Artist Album: Hand of Blood (2005)\n",
      "2018-01-30 19:18:18,864 : INFO : GET Artist Album Successful: Hand of Blood (2005)\n",
      "2018-01-30 19:18:18,865 : INFO : GET Artist Album: Fever (2010)\n",
      "2018-01-30 19:18:24,329 : INFO : GET Artist Album Successful: Fever (2010)\n",
      "2018-01-30 19:18:24,330 : INFO : GET Artist Album: Venom (2015)\n",
      "2018-01-30 19:18:34,802 : INFO : GET Artist Album Successful: Venom (2015)\n",
      "2018-01-30 19:18:34,802 : INFO : GET Artist Album: Misc (0000)\n",
      "2018-01-30 19:18:34,803 : INFO : GET Artist Album Successful: Misc (0000)\n",
      "2018-01-30 19:18:34,804 : INFO : GET Artist Album: The Poison (2005)\n",
      "2018-01-30 19:18:46,431 : INFO : GET Artist Album Successful: The Poison (2005)\n",
      "2018-01-30 19:18:46,432 : INFO : GET Artist Album: Temper Temper (2013)\n",
      "2018-01-30 19:18:53,812 : INFO : GET Artist Album Successful: Temper Temper (2013)\n",
      "2018-01-30 19:18:53,813 : INFO : GET Artist Album: Rare Cuts (2007)\n",
      "2018-01-30 19:18:56,405 : INFO : GET Artist Album Successful: Rare Cuts (2007)\n",
      "2018-01-30 19:18:56,406 : INFO : GET Artist Album: Edit\n",
      "2018-01-30 19:18:56,732 : INFO : GET Artist Album Successful: Edit\n",
      "2018-01-30 19:18:56,732 : INFO : GET Artist Album: Bullet for My Valentine (2004)\n",
      "2018-01-30 19:18:57,739 : INFO : GET Artist Album Successful: Bullet for My Valentine (2004)\n",
      "2018-01-30 19:18:57,739 : INFO : GET Artist Album: Scream Aim Fire (2008)\n",
      "2018-01-30 19:19:07,333 : INFO : GET Artist Album Successful: Scream Aim Fire (2008)\n"
     ]
    },
    {
     "name": "stdout",
     "output_type": "stream",
     "text": [
      "done Bullet for My Valentine\n"
     ]
    },
    {
     "name": "stderr",
     "output_type": "stream",
     "text": [
      "2018-01-30 19:19:09,340 : INFO : GET Artist URL: http://lyrics.wikia.com/wiki/Memphis_May_Fire\n",
      "2018-01-30 19:19:10,079 : INFO : GET Artist Album: Memphis May Fire (2007)\n",
      "2018-01-30 19:19:18,801 : INFO : GET Artist Album Successful: Memphis May Fire (2007)\n",
      "2018-01-30 19:19:18,802 : INFO : GET Artist Album: Misc (0000)\n",
      "2018-01-30 19:19:18,803 : INFO : GET Artist Album Successful: Misc (0000)\n",
      "2018-01-30 19:19:18,804 : INFO : GET Artist Album: The Hollow (2011)\n",
      "2018-01-30 19:19:26,053 : INFO : GET Artist Album Successful: The Hollow (2011)\n",
      "2018-01-30 19:19:26,054 : INFO : GET Artist Album: Edit\n",
      "2018-01-30 19:19:26,359 : INFO : GET Artist Album Successful: Edit\n",
      "2018-01-30 19:19:26,359 : INFO : GET Artist Album: Challenger (2012)\n",
      "2018-01-30 19:19:35,877 : INFO : GET Artist Album Successful: Challenger (2012)\n",
      "2018-01-30 19:19:35,878 : INFO : GET Artist Album: Between the Lies (2010)\n",
      "2018-01-30 19:19:41,402 : INFO : GET Artist Album Successful: Between the Lies (2010)\n",
      "2018-01-30 19:19:41,403 : INFO : GET Artist Album: This Light I Hold (2016)\n",
      "2018-01-30 19:19:47,214 : INFO : GET Artist Album Successful: This Light I Hold (2016)\n",
      "2018-01-30 19:19:47,215 : INFO : GET Artist Album: Sleepwalking (2009)\n",
      "2018-01-30 19:19:58,778 : INFO : GET Artist Album Successful: Sleepwalking (2009)\n",
      "2018-01-30 19:19:58,779 : INFO : GET Artist Album: Unconditional (2014)\n",
      "2018-01-30 19:20:09,861 : INFO : GET Artist Album Successful: Unconditional (2014)\n"
     ]
    },
    {
     "name": "stdout",
     "output_type": "stream",
     "text": [
      "done Memphis May Fire\n"
     ]
    },
    {
     "name": "stderr",
     "output_type": "stream",
     "text": [
      "2018-01-30 19:20:10,900 : INFO : GET Artist URL: http://lyrics.wikia.com/wiki/Blessthefall\n",
      "2018-01-30 19:20:11,245 : INFO : GET Artist Album: blessthefall (2006)\n",
      "2018-01-30 19:20:16,592 : INFO : GET Artist Album Successful: blessthefall (2006)\n",
      "2018-01-30 19:20:16,593 : INFO : GET Artist Album: Misc (0000)\n",
      "2018-01-30 19:20:16,594 : INFO : GET Artist Album Successful: Misc (0000)\n",
      "2018-01-30 19:20:16,595 : INFO : GET Artist Album: Awakening (2011)\n",
      "2018-01-30 19:20:24,116 : INFO : GET Artist Album Successful: Awakening (2011)\n",
      "2018-01-30 19:20:24,117 : INFO : GET Artist Album: Edit\n",
      "2018-01-30 19:20:25,678 : INFO : GET Artist Album Successful: Edit\n",
      "2018-01-30 19:20:25,680 : INFO : GET Artist Album: I Wouldn't Quit If Everyone Quit (2008)\n",
      "2018-01-30 19:20:27,142 : INFO : GET Artist Album Successful: I Wouldn't Quit If Everyone Quit (2008)\n",
      "2018-01-30 19:20:27,143 : INFO : GET Artist Album: Hollow Bodies (2013)\n",
      "2018-01-30 19:20:33,745 : INFO : GET Artist Album Successful: Hollow Bodies (2013)\n",
      "2018-01-30 19:20:33,746 : INFO : GET Artist Album: To Those Left Behind (2015)\n",
      "2018-01-30 19:20:45,264 : INFO : GET Artist Album Successful: To Those Left Behind (2015)\n",
      "2018-01-30 19:20:45,266 : INFO : GET Artist Album: Witness (2009)\n",
      "2018-01-30 19:21:01,507 : INFO : GET Artist Album Successful: Witness (2009)\n",
      "2018-01-30 19:21:01,508 : INFO : GET Artist Album: Black Rose Dying (2003)\n",
      "2018-01-30 19:21:02,905 : INFO : GET Artist Album Successful: Black Rose Dying (2003)\n",
      "2018-01-30 19:21:02,906 : INFO : GET Artist Album: His Last Walk (2007)\n",
      "2018-01-30 19:21:08,358 : INFO : GET Artist Album Successful: His Last Walk (2007)\n"
     ]
    },
    {
     "name": "stdout",
     "output_type": "stream",
     "text": [
      "done Blessthefall\n"
     ]
    },
    {
     "name": "stderr",
     "output_type": "stream",
     "text": [
      "2018-01-30 19:21:09,424 : INFO : GET Artist URL: http://lyrics.wikia.com/wiki/We_Came_As_Romans\n",
      "2018-01-30 19:21:11,481 : INFO : GET Artist Album: Misc (0000)\n",
      "2018-01-30 19:21:11,482 : INFO : GET Artist Album Successful: Misc (0000)\n",
      "2018-01-30 19:21:11,483 : INFO : GET Artist Album: To Move On Is to Grow (2010)\n",
      "2018-01-30 19:21:13,562 : INFO : GET Artist Album Successful: To Move On Is to Grow (2010)\n",
      "2018-01-30 19:21:13,563 : INFO : GET Artist Album: Edit\n",
      "2018-01-30 19:21:13,891 : INFO : GET Artist Album Successful: Edit\n",
      "2018-01-30 19:21:13,891 : INFO : GET Artist Album: Let These Words Last Forever (2012)\n",
      "2018-01-30 19:21:14,154 : INFO : GET Artist Album Successful: Let These Words Last Forever (2012)\n",
      "2018-01-30 19:21:14,155 : INFO : GET Artist Album: Dreams (2008)\n",
      "2018-01-30 19:21:17,812 : INFO : GET Artist Album Successful: Dreams (2008)\n",
      "2018-01-30 19:21:17,813 : INFO : GET Artist Album: We Came as Romans (2015)\n",
      "2018-01-30 19:21:28,101 : INFO : GET Artist Album Successful: We Came as Romans (2015)\n",
      "2018-01-30 19:21:28,101 : INFO : GET Artist Album: To Plant a Seed (2009)\n",
      "2018-01-30 19:21:33,073 : INFO : GET Artist Album Successful: To Plant a Seed (2009)\n",
      "2018-01-30 19:21:33,074 : INFO : GET Artist Album: Tracing Back Roots (2013)\n",
      "2018-01-30 19:21:37,436 : INFO : GET Artist Album Successful: Tracing Back Roots (2013)\n",
      "2018-01-30 19:21:37,437 : INFO : GET Artist Album: Understanding What We've Grown to Be (2011)\n",
      "2018-01-30 19:21:46,350 : INFO : GET Artist Album Successful: Understanding What We've Grown to Be (2011)\n",
      "2018-01-30 19:21:46,351 : INFO : GET Artist Album: Cold Like War (2017)\n",
      "2018-01-30 19:21:50,459 : INFO : GET Artist Album Successful: Cold Like War (2017)\n",
      "2018-01-30 19:21:50,460 : INFO : GET Artist Album: Demonstrations (2008)\n",
      "2018-01-30 19:21:55,585 : INFO : GET Artist Album Successful: Demonstrations (2008)\n"
     ]
    },
    {
     "name": "stdout",
     "output_type": "stream",
     "text": [
      "done We Came as Romans\n"
     ]
    },
    {
     "name": "stderr",
     "output_type": "stream",
     "text": [
      "2018-01-30 19:21:57,910 : INFO : GET Artist URL: http://lyrics.wikia.com/wiki/Panic!_At_The_Disco\n",
      "2018-01-30 19:21:58,264 : INFO : GET Artist Album: Vices & Virtues (2011)\n",
      "2018-01-30 19:22:06,246 : INFO : GET Artist Album Successful: Vices & Virtues (2011)\n",
      "2018-01-30 19:22:06,247 : INFO : GET Artist Album: Misc (0000)\n",
      "2018-01-30 19:22:06,248 : INFO : GET Artist Album Successful: Misc (0000)\n",
      "2018-01-30 19:22:06,249 : INFO : GET Artist Album: Edit\n",
      "2018-01-30 19:22:08,730 : INFO : GET Artist Album Successful: Edit\n",
      "2018-01-30 19:22:08,731 : INFO : GET Artist Album: Pretty. Odd. (2008)\n",
      "2018-01-30 19:22:20,921 : INFO : GET Artist Album Successful: Pretty. Odd. (2008)\n",
      "2018-01-30 19:22:20,922 : INFO : GET Artist Album: Death of a Bachelor (2016)\n",
      "2018-01-30 19:22:23,627 : INFO : GET Artist Album Successful: Death of a Bachelor (2016)\n",
      "2018-01-30 19:22:23,628 : INFO : GET Artist Album: A Fever You Can't Sweat Out (2005)\n",
      "2018-01-30 19:22:28,995 : INFO : GET Artist Album Successful: A Fever You Can't Sweat Out (2005)\n",
      "2018-01-30 19:22:28,996 : INFO : GET Artist Album: Too Weird to Live, Too Rare to Die! (2013)\n",
      "2018-01-30 19:22:34,891 : INFO : GET Artist Album Successful: Too Weird to Live, Too Rare to Die! (2013)\n"
     ]
    },
    {
     "name": "stdout",
     "output_type": "stream",
     "text": [
      "done Panic! at the Disco\n"
     ]
    },
    {
     "name": "stderr",
     "output_type": "stream",
     "text": [
      "2018-01-30 19:22:37,658 : INFO : GET Artist URL: http://lyrics.wikia.com/wiki/Miss_May_I\n",
      "2018-01-30 19:22:38,180 : INFO : GET Artist Album: Monument (2010)\n",
      "2018-01-30 19:22:49,032 : INFO : GET Artist Album Successful: Monument (2010)\n",
      "2018-01-30 19:22:49,033 : INFO : GET Artist Album: Misc (0000)\n",
      "2018-01-30 19:22:49,034 : INFO : GET Artist Album Successful: Misc (0000)\n",
      "2018-01-30 19:22:49,035 : INFO : GET Artist Album: Deathless (2015)\n",
      "2018-01-30 19:22:54,783 : INFO : GET Artist Album Successful: Deathless (2015)\n",
      "2018-01-30 19:22:54,784 : INFO : GET Artist Album: Rise of the Lion (2014)\n",
      "2018-01-30 19:23:07,500 : INFO : GET Artist Album Successful: Rise of the Lion (2014)\n",
      "2018-01-30 19:23:07,501 : INFO : GET Artist Album: Apologies Are For The Weak (2009)\n",
      "2018-01-30 19:23:17,874 : INFO : GET Artist Album Successful: Apologies Are For The Weak (2009)\n",
      "2018-01-30 19:23:17,875 : INFO : GET Artist Album: Shadows Inside (2017)\n",
      "2018-01-30 19:23:25,620 : INFO : GET Artist Album Successful: Shadows Inside (2017)\n",
      "2018-01-30 19:23:25,621 : INFO : GET Artist Album: Edit\n",
      "2018-01-30 19:23:26,493 : INFO : GET Artist Album Successful: Edit\n",
      "2018-01-30 19:23:26,494 : INFO : GET Artist Album: Vows For A Massacre (2007)\n",
      "2018-01-30 19:23:34,463 : INFO : GET Artist Album Successful: Vows For A Massacre (2007)\n",
      "2018-01-30 19:23:34,463 : INFO : GET Artist Album: At Heart (2012)\n",
      "2018-01-30 19:23:45,798 : INFO : GET Artist Album Successful: At Heart (2012)\n"
     ]
    },
    {
     "name": "stdout",
     "output_type": "stream",
     "text": [
      "done Miss May I\n"
     ]
    },
    {
     "name": "stderr",
     "output_type": "stream",
     "text": [
      "2018-01-30 19:23:47,068 : INFO : GET Artist URL: http://lyrics.wikia.com/wiki/My_Chemical_Romance\n",
      "2018-01-30 19:23:47,433 : INFO : GET Artist Album: May Death Never Stop You (2014)\n",
      "2018-01-30 19:23:57,667 : INFO : GET Artist Album Successful: May Death Never Stop You (2014)\n",
      "2018-01-30 19:23:57,667 : INFO : GET Artist Album: Number Five (2013)\n",
      "2018-01-30 19:24:01,560 : INFO : GET Artist Album Successful: Number Five (2013)\n",
      "2018-01-30 19:24:01,561 : INFO : GET Artist Album: Edit\n",
      "2018-01-30 19:24:05,510 : INFO : GET Artist Album Successful: Edit\n",
      "2018-01-30 19:24:05,511 : INFO : GET Artist Album: Three Cheers for Sweet Revenge (2004)\n",
      "2018-01-30 19:24:13,549 : INFO : GET Artist Album Successful: Three Cheers for Sweet Revenge (2004)\n",
      "2018-01-30 19:24:13,550 : INFO : GET Artist Album: Number One (2012)\n",
      "2018-01-30 19:24:15,894 : INFO : GET Artist Album Successful: Number One (2012)\n",
      "2018-01-30 19:24:15,895 : INFO : GET Artist Album: Misc (0000)\n",
      "2018-01-30 19:24:15,896 : INFO : GET Artist Album Successful: Misc (0000)\n",
      "2018-01-30 19:24:15,897 : INFO : GET Artist Album: Like Phantoms, Forever (2002)\n",
      "2018-01-30 19:24:17,618 : INFO : GET Artist Album Successful: Like Phantoms, Forever (2002)\n",
      "2018-01-30 19:24:17,619 : INFO : GET Artist Album: Number Four (2013)\n",
      "2018-01-30 19:24:18,812 : INFO : GET Artist Album Successful: Number Four (2013)\n",
      "2018-01-30 19:24:18,813 : INFO : GET Artist Album: The Black Parade (2006)\n",
      "2018-01-30 19:24:27,349 : INFO : GET Artist Album Successful: The Black Parade (2006)\n",
      "2018-01-30 19:24:27,350 : INFO : GET Artist Album: Number Three (2012)\n",
      "2018-01-30 19:24:27,869 : INFO : GET Artist Album Successful: Number Three (2012)\n",
      "2018-01-30 19:24:27,870 : INFO : GET Artist Album: The Black Parade/Living with Ghosts (2016)\n",
      "2018-01-30 19:24:37,004 : INFO : GET Artist Album Successful: The Black Parade/Living with Ghosts (2016)\n",
      "2018-01-30 19:24:37,005 : INFO : GET Artist Album: Danger Days: The True Lives of the Fabulous Killjoys (2010)\n",
      "2018-01-30 19:24:49,394 : INFO : GET Artist Album Successful: Danger Days: The True Lives of the Fabulous Killjoys (2010)\n",
      "2018-01-30 19:24:49,395 : INFO : GET Artist Album: The Mad Gear and Missile Kid (2010)\n",
      "2018-01-30 19:24:54,033 : INFO : GET Artist Album Successful: The Mad Gear and Missile Kid (2010)\n",
      "2018-01-30 19:24:54,034 : INFO : GET Artist Album: I Brought You My Bullets, You Brought Me Your Love (2002)\n",
      "2018-01-30 19:24:58,650 : INFO : GET Artist Album Successful: I Brought You My Bullets, You Brought Me Your Love (2002)\n",
      "2018-01-30 19:24:58,651 : INFO : GET Artist Album: Number Two (2012)\n",
      "2018-01-30 19:25:00,963 : INFO : GET Artist Album Successful: Number Two (2012)\n"
     ]
    },
    {
     "name": "stdout",
     "output_type": "stream",
     "text": [
      "done My Chemical Romance\n"
     ]
    },
    {
     "name": "stderr",
     "output_type": "stream",
     "text": [
      "2018-01-30 19:25:02,980 : INFO : GET Artist URL: http://lyrics.wikia.com/wiki/Crown_The_Empire\n",
      "2018-01-30 19:25:04,199 : INFO : GET Artist Album: Misc (0000)\n",
      "2018-01-30 19:25:04,200 : INFO : GET Artist Album Successful: Misc (0000)\n",
      "2018-01-30 19:25:04,201 : INFO : GET Artist Album: Edit\n",
      "2018-01-30 19:25:04,202 : INFO : GET Artist Album Successful: Edit\n",
      "2018-01-30 19:25:04,203 : INFO : GET Artist Album: Limitless (2011)\n",
      "2018-01-30 19:25:09,120 : INFO : GET Artist Album Successful: Limitless (2011)\n",
      "2018-01-30 19:25:09,121 : INFO : GET Artist Album: The Resistance: Rise of the Runaways (2014)\n",
      "2018-01-30 19:25:19,069 : INFO : GET Artist Album Successful: The Resistance: Rise of the Runaways (2014)\n",
      "2018-01-30 19:25:19,070 : INFO : GET Artist Album: The Fallout (2012)\n",
      "2018-01-30 19:25:22,300 : INFO : GET Artist Album Successful: The Fallout (2012)\n",
      "2018-01-30 19:25:22,301 : INFO : GET Artist Album: Retrograde (2016)\n",
      "2018-01-30 19:25:35,207 : INFO : GET Artist Album Successful: Retrograde (2016)\n"
     ]
    },
    {
     "name": "stdout",
     "output_type": "stream",
     "text": [
      "done Crown the Empire\n"
     ]
    },
    {
     "name": "stderr",
     "output_type": "stream",
     "text": [
      "2018-01-30 19:25:37,641 : INFO : GET Artist URL: http://lyrics.wikia.com/wiki/Eyes_Set_To_Kill\n",
      "2018-01-30 19:25:38,358 : INFO : GET Artist Album: Masks (2013)\n",
      "2018-01-30 19:25:56,386 : INFO : GET Artist Album Successful: Masks (2013)\n",
      "2018-01-30 19:25:56,387 : INFO : GET Artist Album: Broken Frames (2010)\n",
      "2018-01-30 19:26:07,437 : INFO : GET Artist Album Successful: Broken Frames (2010)\n",
      "2018-01-30 19:26:07,438 : INFO : GET Artist Album: The World Outside (2009)\n",
      "2018-01-30 19:26:19,555 : INFO : GET Artist Album Successful: The World Outside (2009)\n",
      "2018-01-30 19:26:19,556 : INFO : GET Artist Album: Misc (0000)\n",
      "2018-01-30 19:26:19,557 : INFO : GET Artist Album Successful: Misc (0000)\n",
      "2018-01-30 19:26:19,558 : INFO : GET Artist Album: Edit\n",
      "2018-01-30 19:26:19,558 : INFO : GET Artist Album Successful: Edit\n",
      "2018-01-30 19:26:19,559 : INFO : GET Artist Album: Reach (2008)\n",
      "2018-01-30 19:26:29,194 : INFO : GET Artist Album Successful: Reach (2008)\n",
      "2018-01-30 19:26:29,195 : INFO : GET Artist Album: When Silence Is Broken the Night Is Torn (2006)\n",
      "2018-01-30 19:26:35,954 : INFO : GET Artist Album Successful: When Silence Is Broken the Night Is Torn (2006)\n",
      "2018-01-30 19:26:35,955 : INFO : GET Artist Album: White Lotus (2011)\n",
      "2018-01-30 19:26:49,800 : INFO : GET Artist Album Successful: White Lotus (2011)\n"
     ]
    },
    {
     "name": "stdout",
     "output_type": "stream",
     "text": [
      "done Eyes Set to Kill\n"
     ]
    },
    {
     "name": "stderr",
     "output_type": "stream",
     "text": [
      "2018-01-30 19:26:52,414 : INFO : GET Artist URL: http://lyrics.wikia.com/wiki/Five_Finger_Death_Punch\n",
      "2018-01-30 19:26:53,657 : INFO : GET Artist Album: American Capitalist (2011)\n",
      "2018-01-30 19:26:58,024 : INFO : GET Artist Album Successful: American Capitalist (2011)\n",
      "2018-01-30 19:26:58,025 : INFO : GET Artist Album: A Decade Of Destruction (2017)\n",
      "2018-01-30 19:27:07,782 : INFO : GET Artist Album Successful: A Decade Of Destruction (2017)\n",
      "2018-01-30 19:27:07,783 : INFO : GET Artist Album: War Is the Answer (2009)\n",
      "2018-01-30 19:27:14,174 : INFO : GET Artist Album Successful: War Is the Answer (2009)\n",
      "2018-01-30 19:27:14,175 : INFO : GET Artist Album: Misc (0000)\n",
      "2018-01-30 19:27:14,176 : INFO : GET Artist Album Successful: Misc (0000)\n",
      "2018-01-30 19:27:14,177 : INFO : GET Artist Album: The Wrong Side of Heaven and the Righteous Side of Hell, Volume 1 (2013)\n",
      "2018-01-30 19:27:20,736 : INFO : GET Artist Album Successful: The Wrong Side of Heaven and the Righteous Side of Hell, Volume 1 (2013)\n",
      "2018-01-30 19:27:20,736 : INFO : GET Artist Album: The Wrong Side of Heaven and the Righteous Side of Hell, Volume 2 (2013)\n",
      "2018-01-30 19:27:24,252 : INFO : GET Artist Album Successful: The Wrong Side of Heaven and the Righteous Side of Hell, Volume 2 (2013)\n",
      "2018-01-30 19:27:24,253 : INFO : GET Artist Album: The Way of the Fist (2007)\n",
      "2018-01-30 19:27:31,417 : INFO : GET Artist Album Successful: The Way of the Fist (2007)\n",
      "2018-01-30 19:27:31,418 : INFO : GET Artist Album: Got Your Six (2015)\n",
      "2018-01-30 19:27:36,658 : INFO : GET Artist Album Successful: Got Your Six (2015)\n"
     ]
    },
    {
     "name": "stdout",
     "output_type": "stream",
     "text": [
      "done Five Finger Death Punch\n"
     ]
    },
    {
     "name": "stderr",
     "output_type": "stream",
     "text": [
      "2018-01-30 19:27:39,297 : INFO : GET Artist URL: http://lyrics.wikia.com/wiki/Alesana\n",
      "2018-01-30 19:27:39,633 : INFO : GET Artist Album: Misc (0000)\n",
      "2018-01-30 19:27:39,633 : INFO : GET Artist Album Successful: Misc (0000)\n",
      "2018-01-30 19:27:39,634 : INFO : GET Artist Album: A Place Where The Sun is Silent (2011)\n",
      "2018-01-30 19:27:59,004 : INFO : GET Artist Album Successful: A Place Where The Sun is Silent (2011)\n",
      "2018-01-30 19:27:59,005 : INFO : GET Artist Album: Confessions (2015)\n",
      "2018-01-30 19:28:10,217 : INFO : GET Artist Album Successful: Confessions (2015)\n",
      "2018-01-30 19:28:10,218 : INFO : GET Artist Album: The Decade EP (2014)\n",
      "2018-01-30 19:28:20,573 : INFO : GET Artist Album Successful: The Decade EP (2014)\n",
      "2018-01-30 19:28:20,574 : INFO : GET Artist Album: Edit\n",
      "2018-01-30 19:28:23,858 : INFO : GET Artist Album Successful: Edit\n",
      "2018-01-30 19:28:23,859 : INFO : GET Artist Album: The Emptiness (2010)\n",
      "2018-01-30 19:28:37,532 : INFO : GET Artist Album Successful: The Emptiness (2010)\n",
      "2018-01-30 19:28:37,533 : INFO : GET Artist Album: On Frail Wings Of Vanity And Wax (2006)\n",
      "2018-01-30 19:28:50,628 : INFO : GET Artist Album Successful: On Frail Wings Of Vanity And Wax (2006)\n",
      "2018-01-30 19:28:50,629 : INFO : GET Artist Album: Where Myth Fades To Legend (2008)\n",
      "2018-01-30 19:29:08,160 : INFO : GET Artist Album Successful: Where Myth Fades To Legend (2008)\n",
      "2018-01-30 19:29:08,161 : INFO : GET Artist Album: Try This With Your Eyes Closed (2005)\n",
      "2018-01-30 19:29:11,276 : INFO : GET Artist Album Successful: Try This With Your Eyes Closed (2005)\n"
     ]
    },
    {
     "name": "stdout",
     "output_type": "stream",
     "text": [
      "done Alesana\n"
     ]
    },
    {
     "name": "stderr",
     "output_type": "stream",
     "text": [
      "2018-01-30 19:29:13,595 : INFO : GET Artist URL: http://lyrics.wikia.com/wiki/All_Time_Low\n",
      "2018-01-30 19:29:13,942 : INFO : GET Artist Album: Misc (0000)\n",
      "2018-01-30 19:29:13,943 : INFO : GET Artist Album Successful: Misc (0000)\n",
      "2018-01-30 19:29:13,944 : INFO : GET Artist Album: Edit\n",
      "2018-01-30 19:29:20,804 : INFO : GET Artist Album Successful: Edit\n",
      "2018-01-30 19:29:20,805 : INFO : GET Artist Album: The Party Scene (2005)\n",
      "2018-01-30 19:29:32,995 : INFO : GET Artist Album Successful: The Party Scene (2005)\n",
      "2018-01-30 19:29:32,995 : INFO : GET Artist Album: So Wrong, It's Right (2007)\n",
      "2018-01-30 19:29:40,998 : INFO : GET Artist Album Successful: So Wrong, It's Right (2007)\n",
      "2018-01-30 19:29:40,999 : INFO : GET Artist Album: Dirty Work (2011)\n",
      "2018-01-30 19:29:56,798 : INFO : GET Artist Album Successful: Dirty Work (2011)\n",
      "2018-01-30 19:29:56,799 : INFO : GET Artist Album: Last Young Renegade (2017)\n",
      "2018-01-30 19:30:15,755 : INFO : GET Artist Album Successful: Last Young Renegade (2017)\n",
      "2018-01-30 19:30:15,755 : INFO : GET Artist Album: Nothing Personal (2009)\n",
      "2018-01-30 19:30:23,218 : INFO : GET Artist Album Successful: Nothing Personal (2009)\n",
      "2018-01-30 19:30:23,219 : INFO : GET Artist Album: Future Hearts (2015)\n",
      "2018-01-30 19:30:39,508 : INFO : GET Artist Album Successful: Future Hearts (2015)\n",
      "2018-01-30 19:30:39,509 : INFO : GET Artist Album: Put Up Or Shut Up (2006)\n",
      "2018-01-30 19:30:41,049 : INFO : GET Artist Album Successful: Put Up Or Shut Up (2006)\n",
      "2018-01-30 19:30:41,050 : INFO : GET Artist Album: The Three Words To Remember In Dealing With The End (2004)\n",
      "2018-01-30 19:30:47,929 : INFO : GET Artist Album Successful: The Three Words To Remember In Dealing With The End (2004)\n",
      "2018-01-30 19:30:47,930 : INFO : GET Artist Album: Don't Panic (2012)\n",
      "2018-01-30 19:31:05,188 : INFO : GET Artist Album Successful: Don't Panic (2012)\n"
     ]
    },
    {
     "name": "stdout",
     "output_type": "stream",
     "text": [
      "done All Time Low\n"
     ]
    },
    {
     "name": "stderr",
     "output_type": "stream",
     "text": [
      "2018-01-30 19:31:08,795 : INFO : GET Artist URL: http://lyrics.wikia.com/wiki/August_Burns_Red\n",
      "2018-01-30 19:31:09,368 : INFO : GET Artist Album: Lost Messengers: The Outtakes (2009)\n",
      "2018-01-30 19:31:17,196 : INFO : GET Artist Album Successful: Lost Messengers: The Outtakes (2009)\n",
      "2018-01-30 19:31:17,198 : INFO : GET Artist Album: Misc (0000)\n",
      "2018-01-30 19:31:17,199 : INFO : GET Artist Album Successful: Misc (0000)\n",
      "2018-01-30 19:31:17,200 : INFO : GET Artist Album: Thrill Seeker (2005)\n",
      "2018-01-30 19:31:31,619 : INFO : GET Artist Album Successful: Thrill Seeker (2005)\n",
      "2018-01-30 19:31:31,620 : INFO : GET Artist Album: Rescue & Restore (2013)\n",
      "2018-01-30 19:31:40,237 : INFO : GET Artist Album Successful: Rescue & Restore (2013)\n",
      "2018-01-30 19:31:40,238 : INFO : GET Artist Album: Phantom Anthem (2017)\n",
      "2018-01-30 19:31:46,394 : INFO : GET Artist Album Successful: Phantom Anthem (2017)\n",
      "2018-01-30 19:31:46,395 : INFO : GET Artist Album: Looks Fragile After All (2004)\n",
      "2018-01-30 19:31:53,591 : INFO : GET Artist Album Successful: Looks Fragile After All (2004)\n",
      "2018-01-30 19:31:53,592 : INFO : GET Artist Album: Edit\n",
      "2018-01-30 19:31:53,593 : INFO : GET Artist Album Successful: Edit\n",
      "2018-01-30 19:31:53,593 : INFO : GET Artist Album: Demo (2005)\n",
      "2018-01-30 19:31:54,172 : INFO : GET Artist Album Successful: Demo (2005)\n",
      "2018-01-30 19:31:54,173 : INFO : GET Artist Album: Found in Far Away Places (2015)\n",
      "2018-01-30 19:32:01,541 : INFO : GET Artist Album Successful: Found in Far Away Places (2015)\n",
      "2018-01-30 19:32:01,542 : INFO : GET Artist Album: Messengers (2007)\n",
      "2018-01-30 19:32:14,936 : INFO : GET Artist Album Successful: Messengers (2007)\n",
      "2018-01-30 19:32:14,937 : INFO : GET Artist Album: Constellations (2009)\n",
      "2018-01-30 19:32:20,433 : INFO : GET Artist Album Successful: Constellations (2009)\n",
      "2018-01-30 19:32:20,434 : INFO : GET Artist Album: Leveler (2011)\n",
      "2018-01-30 19:32:37,200 : INFO : GET Artist Album Successful: Leveler (2011)\n",
      "2018-01-30 19:32:37,201 : INFO : GET Artist Album: Indonesia (2009)\n",
      "2018-01-30 19:32:39,027 : INFO : GET Artist Album Successful: Indonesia (2009)\n"
     ]
    },
    {
     "name": "stdout",
     "output_type": "stream",
     "text": [
      "done August Burns Red\n"
     ]
    },
    {
     "name": "stderr",
     "output_type": "stream",
     "text": [
      "2018-01-30 19:32:41,112 : INFO : GET Artist URL: http://lyrics.wikia.com/wiki/Fall_Out_Boy\n",
      "2018-01-30 19:32:41,478 : INFO : GET Artist Album: Save Rock and Roll (2013)\n",
      "2018-01-30 19:32:46,046 : INFO : GET Artist Album Successful: Save Rock and Roll (2013)\n",
      "2018-01-30 19:32:46,047 : INFO : GET Artist Album: Misc (0000)\n",
      "2018-01-30 19:32:46,047 : INFO : GET Artist Album Successful: Misc (0000)\n",
      "2018-01-30 19:32:46,048 : INFO : GET Artist Album: Edit\n",
      "2018-01-30 19:33:22,654 : INFO : GET Artist Album Successful: Edit\n",
      "2018-01-30 19:33:22,655 : INFO : GET Artist Album: Infinity on High (2007)\n",
      "2018-01-30 19:33:30,391 : INFO : GET Artist Album Successful: Infinity on High (2007)\n",
      "2018-01-30 19:33:30,392 : INFO : GET Artist Album: M A N I A (2018)\n",
      "2018-01-30 19:33:32,843 : INFO : GET Artist Album Successful: M A N I A (2018)\n",
      "2018-01-30 19:33:32,844 : INFO : GET Artist Album: Take This to Your Grave (2003)\n",
      "2018-01-30 19:33:38,415 : INFO : GET Artist Album Successful: Take This to Your Grave (2003)\n",
      "2018-01-30 19:33:38,415 : INFO : GET Artist Album: PAX AM Days (2013)\n",
      "2018-01-30 19:33:50,280 : INFO : GET Artist Album Successful: PAX AM Days (2013)\n",
      "2018-01-30 19:33:50,281 : INFO : GET Artist Album: Fall Out Boy's Evening Out With Your Girlfriend (2003)\n",
      "2018-01-30 19:33:59,234 : INFO : GET Artist Album Successful: Fall Out Boy's Evening Out With Your Girlfriend (2003)\n",
      "2018-01-30 19:33:59,235 : INFO : GET Artist Album: American Beauty / American Psycho (2015)\n",
      "2018-01-30 19:34:04,698 : INFO : GET Artist Album Successful: American Beauty / American Psycho (2015)\n",
      "2018-01-30 19:34:04,699 : INFO : GET Artist Album: From Under the Cork Tree (2005)\n",
      "2018-01-30 19:34:19,461 : INFO : GET Artist Album Successful: From Under the Cork Tree (2005)\n",
      "2018-01-30 19:34:19,462 : INFO : GET Artist Album: My Heart Will Always Be the B-Side to My Tongue (2004)\n",
      "2018-01-30 19:34:23,999 : INFO : GET Artist Album Successful: My Heart Will Always Be the B-Side to My Tongue (2004)\n",
      "2018-01-30 19:34:24,000 : INFO : GET Artist Album: Folie à Deux (2008)\n",
      "2018-01-30 19:34:31,003 : INFO : GET Artist Album Successful: Folie à Deux (2008)\n"
     ]
    },
    {
     "name": "stdout",
     "output_type": "stream",
     "text": [
      "done Fall Out Boy\n"
     ]
    },
    {
     "name": "stderr",
     "output_type": "stream",
     "text": [
      "2018-01-30 19:34:33,976 : INFO : GET Artist URL: http://lyrics.wikia.com/wiki/System_Of_A_Down\n",
      "2018-01-30 19:34:34,374 : INFO : GET Artist Album: Misc (0000)\n",
      "2018-01-30 19:34:34,375 : INFO : GET Artist Album Successful: Misc (0000)\n",
      "2018-01-30 19:34:34,375 : INFO : GET Artist Album: Edit\n",
      "2018-01-30 19:35:31,385 : INFO : GET Artist Album Successful: Edit\n",
      "2018-01-30 19:35:31,385 : INFO : GET Artist Album: Steal This Album! (2002)\n",
      "2018-01-30 19:35:40,025 : INFO : GET Artist Album Successful: Steal This Album! (2002)\n",
      "2018-01-30 19:35:40,026 : INFO : GET Artist Album: Hypnotize (2005)\n",
      "2018-01-30 19:35:49,128 : INFO : GET Artist Album Successful: Hypnotize (2005)\n",
      "2018-01-30 19:35:49,129 : INFO : GET Artist Album: System of a Down (1998)\n",
      "2018-01-30 19:35:59,260 : INFO : GET Artist Album Successful: System of a Down (1998)\n",
      "2018-01-30 19:35:59,260 : INFO : GET Artist Album: Mezmerize (2005)\n",
      "2018-01-30 19:36:04,619 : INFO : GET Artist Album Successful: Mezmerize (2005)\n",
      "2018-01-30 19:36:04,620 : INFO : GET Artist Album: Lonely Day (2006)\n",
      "2018-01-30 19:36:09,672 : INFO : GET Artist Album Successful: Lonely Day (2006)\n",
      "2018-01-30 19:36:09,673 : INFO : GET Artist Album: Toxicity (2001)\n",
      "2018-01-30 19:36:19,401 : INFO : GET Artist Album Successful: Toxicity (2001)\n"
     ]
    },
    {
     "name": "stdout",
     "output_type": "stream",
     "text": [
      "done System of a Down\n"
     ]
    },
    {
     "name": "stderr",
     "output_type": "stream",
     "text": [
      "2018-01-30 19:36:20,629 : INFO : GET Artist URL: http://lyrics.wikia.com/wiki/A_Skylit_Drive\n",
      "2018-01-30 19:36:22,011 : INFO : GET Artist Album: Wires...And the Concept of Breathing (2008)\n",
      "2018-01-30 19:36:34,727 : INFO : GET Artist Album Successful: Wires...And the Concept of Breathing (2008)\n",
      "2018-01-30 19:36:34,728 : INFO : GET Artist Album: Misc (0000)\n",
      "2018-01-30 19:36:34,729 : INFO : GET Artist Album Successful: Misc (0000)\n",
      "2018-01-30 19:36:34,730 : INFO : GET Artist Album: ASD (2015)\n",
      "2018-01-30 19:36:49,650 : INFO : GET Artist Album Successful: ASD (2015)\n",
      "2018-01-30 19:36:49,651 : INFO : GET Artist Album: Edit\n",
      "2018-01-30 19:36:49,652 : INFO : GET Artist Album Successful: Edit\n",
      "2018-01-30 19:36:49,653 : INFO : GET Artist Album: Rise (2013)\n",
      "2018-01-30 19:37:04,913 : INFO : GET Artist Album Successful: Rise (2013)\n",
      "2018-01-30 19:37:04,914 : INFO : GET Artist Album: Identity On Fire (2011)\n",
      "2018-01-30 19:37:29,972 : INFO : GET Artist Album Successful: Identity On Fire (2011)\n",
      "2018-01-30 19:37:29,973 : INFO : GET Artist Album: She Watched the Sky (2007)\n",
      "2018-01-30 19:37:39,411 : INFO : GET Artist Album Successful: She Watched the Sky (2007)\n",
      "2018-01-30 19:37:39,412 : INFO : GET Artist Album: Adelphia (2009)\n",
      "2018-01-30 19:38:01,210 : INFO : GET Artist Album Successful: Adelphia (2009)\n"
     ]
    },
    {
     "name": "stdout",
     "output_type": "stream",
     "text": [
      "done A Skylit Drive\n"
     ]
    },
    {
     "name": "stderr",
     "output_type": "stream",
     "text": [
      "2018-01-30 19:38:03,167 : INFO : GET Artist URL: http://lyrics.wikia.com/wiki/The_Used\n",
      "2018-01-30 19:38:03,499 : INFO : GET Artist Album: Maybe Memories (2003)\n",
      "2018-01-30 19:38:13,457 : INFO : GET Artist Album Successful: Maybe Memories (2003)\n",
      "2018-01-30 19:38:13,459 : INFO : GET Artist Album: In Love And Death (2004)\n",
      "2018-01-30 19:38:20,554 : INFO : GET Artist Album Successful: In Love And Death (2004)\n",
      "2018-01-30 19:38:20,555 : INFO : GET Artist Album: Misc (0000)\n",
      "2018-01-30 19:38:20,556 : INFO : GET Artist Album Successful: Misc (0000)\n",
      "2018-01-30 19:38:20,557 : INFO : GET Artist Album: The Canyon (2017)\n",
      "2018-01-30 19:38:38,201 : INFO : GET Artist Album Successful: The Canyon (2017)\n",
      "2018-01-30 19:38:38,202 : INFO : GET Artist Album: Edit\n",
      "2018-01-30 19:38:53,182 : INFO : GET Artist Album Successful: Edit\n",
      "2018-01-30 19:38:53,183 : INFO : GET Artist Album: Imaginary Enemy (2014)\n",
      "2018-01-30 19:39:04,672 : INFO : GET Artist Album Successful: Imaginary Enemy (2014)\n",
      "2018-01-30 19:39:04,673 : INFO : GET Artist Album: Artwork (2009)\n",
      "2018-01-30 19:39:15,858 : INFO : GET Artist Album Successful: Artwork (2009)\n",
      "2018-01-30 19:39:15,859 : INFO : GET Artist Album: Lies For The Liars (2007)\n",
      "2018-01-30 19:39:26,220 : INFO : GET Artist Album Successful: Lies For The Liars (2007)\n",
      "2018-01-30 19:39:26,220 : INFO : GET Artist Album: Shallow Believer (2008)\n",
      "2018-01-30 19:39:39,443 : INFO : GET Artist Album Successful: Shallow Believer (2008)\n",
      "2018-01-30 19:39:39,444 : INFO : GET Artist Album: Vulnerable (2012)\n",
      "2018-01-30 19:39:59,368 : INFO : GET Artist Album Successful: Vulnerable (2012)\n",
      "2018-01-30 19:39:59,368 : INFO : GET Artist Album: The Used (2002)\n",
      "2018-01-30 19:40:07,441 : INFO : GET Artist Album Successful: The Used (2002)\n"
     ]
    },
    {
     "name": "stdout",
     "output_type": "stream",
     "text": [
      "done The Used\n"
     ]
    },
    {
     "name": "stderr",
     "output_type": "stream",
     "text": [
      "2018-01-30 19:40:09,741 : INFO : GET Artist URL: http://lyrics.wikia.com/wiki/Silverstein\n",
      "2018-01-30 19:40:11,817 : INFO : GET Artist Album: Discovering the Waterfront (2005)\n",
      "2018-01-30 19:40:21,194 : INFO : GET Artist Album Successful: Discovering the Waterfront (2005)\n",
      "2018-01-30 19:40:21,194 : INFO : GET Artist Album: When Broken is Easily Fixed (2003)\n",
      "2018-01-30 19:40:30,992 : INFO : GET Artist Album Successful: When Broken is Easily Fixed (2003)\n",
      "2018-01-30 19:40:30,993 : INFO : GET Artist Album: Arrivals & Departures (2007)\n",
      "2018-01-30 19:40:50,189 : INFO : GET Artist Album Successful: Arrivals & Departures (2007)\n",
      "2018-01-30 19:40:50,189 : INFO : GET Artist Album: 18 Candles: The Early Years (2006)\n",
      "2018-01-30 19:41:03,658 : INFO : GET Artist Album Successful: 18 Candles: The Early Years (2006)\n",
      "2018-01-30 19:41:03,658 : INFO : GET Artist Album: Rescue (2011)\n",
      "2018-01-30 19:41:15,435 : INFO : GET Artist Album Successful: Rescue (2011)\n",
      "2018-01-30 19:41:15,436 : INFO : GET Artist Album: Transitions (2010)\n",
      "2018-01-30 19:41:19,689 : INFO : GET Artist Album Successful: Transitions (2010)\n",
      "2018-01-30 19:41:19,690 : INFO : GET Artist Album: A Shipwreck in the Sand (2009)\n",
      "2018-01-30 19:41:37,475 : INFO : GET Artist Album Successful: A Shipwreck in the Sand (2009)\n",
      "2018-01-30 19:41:37,476 : INFO : GET Artist Album: When the Shadows Beam (2002)\n",
      "2018-01-30 19:41:38,687 : INFO : GET Artist Album Successful: When the Shadows Beam (2002)\n",
      "2018-01-30 19:41:38,688 : INFO : GET Artist Album: Misc (0000)\n",
      "2018-01-30 19:41:38,689 : INFO : GET Artist Album Successful: Misc (0000)\n",
      "2018-01-30 19:41:38,690 : INFO : GET Artist Album: This Is How the Wind Shifts (2013)\n",
      "2018-01-30 19:41:56,790 : INFO : GET Artist Album Successful: This Is How the Wind Shifts (2013)\n",
      "2018-01-30 19:41:56,792 : INFO : GET Artist Album: Edit\n",
      "2018-01-30 19:41:56,793 : INFO : GET Artist Album Successful: Edit\n",
      "2018-01-30 19:41:56,794 : INFO : GET Artist Album: Summer's Stellar Gaze (2000)\n",
      "2018-01-30 19:42:00,462 : INFO : GET Artist Album Successful: Summer's Stellar Gaze (2000)\n",
      "2018-01-30 19:42:00,463 : INFO : GET Artist Album: Short Songs (2012)\n",
      "2018-01-30 19:42:37,680 : INFO : GET Artist Album Successful: Short Songs (2012)\n"
     ]
    },
    {
     "name": "stdout",
     "output_type": "stream",
     "text": [
      "done Silverstein\n"
     ]
    },
    {
     "name": "stderr",
     "output_type": "stream",
     "text": [
      "2018-01-30 19:42:40,291 : INFO : GET Artist URL: http://lyrics.wikia.com/wiki/Nirvana\n",
      "2018-01-30 19:42:40,693 : INFO : GET Artist Album: MTV Unplugged in New York (1994)\n",
      "2018-01-30 19:42:49,548 : INFO : GET Artist Album Successful: MTV Unplugged in New York (1994)\n",
      "2018-01-30 19:42:49,549 : INFO : GET Artist Album: Bleach (1989)\n",
      "2018-01-30 19:43:02,039 : INFO : GET Artist Album Successful: Bleach (1989)\n",
      "2018-01-30 19:43:02,040 : INFO : GET Artist Album: In Utero (1993)\n",
      "2018-01-30 19:43:09,451 : INFO : GET Artist Album Successful: In Utero (1993)\n",
      "2018-01-30 19:43:09,452 : INFO : GET Artist Album: Incesticide (1992)\n",
      "2018-01-30 19:43:22,241 : INFO : GET Artist Album Successful: Incesticide (1992)\n",
      "2018-01-30 19:43:22,242 : INFO : GET Artist Album: Nevermind (1991)\n",
      "2018-01-30 19:43:27,170 : INFO : GET Artist Album Successful: Nevermind (1991)\n",
      "2018-01-30 19:43:27,171 : INFO : GET Artist Album: From the Muddy Banks of the Wishkah (1996)\n",
      "2018-01-30 19:43:32,302 : INFO : GET Artist Album Successful: From the Muddy Banks of the Wishkah (1996)\n",
      "2018-01-30 19:43:32,303 : INFO : GET Artist Album: Misc (0000)\n",
      "2018-01-30 19:43:32,304 : INFO : GET Artist Album Successful: Misc (0000)\n",
      "2018-01-30 19:43:32,305 : INFO : GET Artist Album: Edit\n",
      "2018-01-30 19:43:59,421 : INFO : GET Artist Album Successful: Edit\n",
      "2018-01-30 19:43:59,422 : INFO : GET Artist Album: Hormoaning (1992)\n",
      "2018-01-30 19:44:01,482 : INFO : GET Artist Album Successful: Hormoaning (1992)\n",
      "2018-01-30 19:44:01,483 : INFO : GET Artist Album: With the Lights Out (2004)\n",
      "2018-01-30 19:46:00,364 : INFO : GET Artist Album Successful: With the Lights Out (2004)\n",
      "2018-01-30 19:46:00,364 : INFO : GET Artist Album: Sliver (1990)\n",
      "2018-01-30 19:46:01,164 : INFO : GET Artist Album Successful: Sliver (1990)\n",
      "2018-01-30 19:46:01,164 : INFO : GET Artist Album: Blew (1989)\n",
      "2018-01-30 19:46:01,941 : INFO : GET Artist Album Successful: Blew (1989)\n",
      "2018-01-30 19:46:01,942 : INFO : GET Artist Album: Nirvana (2002)\n",
      "2018-01-30 19:46:08,947 : INFO : GET Artist Album Successful: Nirvana (2002)\n"
     ]
    },
    {
     "name": "stdout",
     "output_type": "stream",
     "text": [
      "done Nirvana\n"
     ]
    },
    {
     "name": "stderr",
     "output_type": "stream",
     "text": [
      "2018-01-30 19:46:11,332 : INFO : GET Artist URL: http://lyrics.wikia.com/wiki/All_That_Remains\n",
      "2018-01-30 19:46:13,610 : INFO : GET Artist Album: A War You Cannot Win (2012)\n",
      "2018-01-30 19:46:20,942 : INFO : GET Artist Album Successful: A War You Cannot Win (2012)\n",
      "2018-01-30 19:46:20,943 : INFO : GET Artist Album: Misc (0000)\n",
      "2018-01-30 19:46:20,944 : INFO : GET Artist Album Successful: Misc (0000)\n",
      "2018-01-30 19:46:20,945 : INFO : GET Artist Album: The Fall of Ideals (2006)\n",
      "2018-01-30 19:46:26,801 : INFO : GET Artist Album Successful: The Fall of Ideals (2006)\n",
      "2018-01-30 19:46:26,802 : INFO : GET Artist Album: This Darkened Heart (2004)\n",
      "2018-01-30 19:46:31,313 : INFO : GET Artist Album Successful: This Darkened Heart (2004)\n",
      "2018-01-30 19:46:31,314 : INFO : GET Artist Album: Behind Silence and Solitude (2002)\n",
      "2018-01-30 19:46:37,022 : INFO : GET Artist Album Successful: Behind Silence and Solitude (2002)\n",
      "2018-01-30 19:46:37,023 : INFO : GET Artist Album: ...For We Are Many (2010)\n",
      "2018-01-30 19:46:48,559 : INFO : GET Artist Album Successful: ...For We Are Many (2010)\n",
      "2018-01-30 19:46:48,560 : INFO : GET Artist Album: Edit\n",
      "2018-01-30 19:46:50,462 : INFO : GET Artist Album Successful: Edit\n",
      "2018-01-30 19:46:50,463 : INFO : GET Artist Album: Madness (2017)\n",
      "2018-01-30 19:47:03,798 : INFO : GET Artist Album Successful: Madness (2017)\n",
      "2018-01-30 19:47:03,799 : INFO : GET Artist Album: Overcome (2008)\n",
      "2018-01-30 19:47:13,933 : INFO : GET Artist Album Successful: Overcome (2008)\n",
      "2018-01-30 19:47:13,934 : INFO : GET Artist Album: The Order of Things (2015)\n",
      "2018-01-30 19:47:21,493 : INFO : GET Artist Album Successful: The Order of Things (2015)\n"
     ]
    },
    {
     "name": "stdout",
     "output_type": "stream",
     "text": [
      "done All That Remains\n"
     ]
    },
    {
     "name": "stderr",
     "output_type": "stream",
     "text": [
      "2018-01-30 19:47:24,046 : INFO : GET Artist URL: http://lyrics.wikia.com/wiki/Paramore\n",
      "2018-01-30 19:47:24,758 : INFO : GET Artist Album: Misc (0000)\n",
      "2018-01-30 19:47:24,759 : INFO : GET Artist Album Successful: Misc (0000)\n",
      "2018-01-30 19:47:24,760 : INFO : GET Artist Album: Paramore (2013)\n",
      "2018-01-30 19:47:45,084 : INFO : GET Artist Album Successful: Paramore (2013)\n",
      "2018-01-30 19:47:45,085 : INFO : GET Artist Album: Edit\n",
      "2018-01-30 19:47:49,592 : INFO : GET Artist Album Successful: Edit\n",
      "2018-01-30 19:47:49,593 : INFO : GET Artist Album: RIOT! (2007)\n",
      "2018-01-30 19:47:55,008 : INFO : GET Artist Album Successful: RIOT! (2007)\n",
      "2018-01-30 19:47:55,009 : INFO : GET Artist Album: After Laughter (2017)\n",
      "2018-01-30 19:48:04,671 : INFO : GET Artist Album Successful: After Laughter (2017)\n",
      "2018-01-30 19:48:04,672 : INFO : GET Artist Album: Brand New Eyes (2009)\n",
      "2018-01-30 19:48:12,032 : INFO : GET Artist Album Successful: Brand New Eyes (2009)\n",
      "2018-01-30 19:48:12,033 : INFO : GET Artist Album: Singles Club (2011)\n",
      "2018-01-30 19:48:13,012 : INFO : GET Artist Album Successful: Singles Club (2011)\n",
      "2018-01-30 19:48:13,013 : INFO : GET Artist Album: All We Know Is Falling (2005)\n",
      "2018-01-30 19:48:18,112 : INFO : GET Artist Album Successful: All We Know Is Falling (2005)\n",
      "2018-01-30 19:48:18,113 : INFO : GET Artist Album: The Summer Tic (2006)\n",
      "2018-01-30 19:48:20,665 : INFO : GET Artist Album Successful: The Summer Tic (2006)\n",
      "2018-01-30 19:48:20,666 : INFO : GET Artist Album: The Final RIOT! (2008)\n",
      "2018-01-30 19:48:34,779 : INFO : GET Artist Album Successful: The Final RIOT! (2008)\n"
     ]
    },
    {
     "name": "stdout",
     "output_type": "stream",
     "text": [
      "done Paramore\n"
     ]
    },
    {
     "name": "stderr",
     "output_type": "stream",
     "text": [
      "2018-01-30 19:48:36,502 : INFO : GET Artist URL: http://lyrics.wikia.com/wiki/Killswitch_Engage\n",
      "2018-01-30 19:48:36,831 : INFO : GET Artist Album: Incarnate (2016)\n",
      "2018-01-30 19:48:45,454 : INFO : GET Artist Album Successful: Incarnate (2016)\n",
      "2018-01-30 19:48:45,455 : INFO : GET Artist Album: Misc (0000)\n",
      "2018-01-30 19:48:45,456 : INFO : GET Artist Album Successful: Misc (0000)\n",
      "2018-01-30 19:48:45,457 : INFO : GET Artist Album: Disarm the Descent (2013)\n",
      "2018-01-30 19:48:54,016 : INFO : GET Artist Album Successful: Disarm the Descent (2013)\n",
      "2018-01-30 19:48:54,017 : INFO : GET Artist Album: Killswitch Engage (2000)\n",
      "2018-01-30 19:49:04,901 : INFO : GET Artist Album Successful: Killswitch Engage (2000)\n",
      "2018-01-30 19:49:04,902 : INFO : GET Artist Album: As Daylight Dies (2006)\n",
      "2018-01-30 19:49:14,269 : INFO : GET Artist Album Successful: As Daylight Dies (2006)\n",
      "2018-01-30 19:49:14,270 : INFO : GET Artist Album: Alive or Just Breathing (2002)\n",
      "2018-01-30 19:49:23,352 : INFO : GET Artist Album Successful: Alive or Just Breathing (2002)\n",
      "2018-01-30 19:49:23,352 : INFO : GET Artist Album: Edit\n",
      "2018-01-30 19:49:23,353 : INFO : GET Artist Album Successful: Edit\n",
      "2018-01-30 19:49:23,354 : INFO : GET Artist Album: The End of Heartache (2004)\n",
      "2018-01-30 19:49:30,189 : INFO : GET Artist Album Successful: The End of Heartache (2004)\n",
      "2018-01-30 19:49:30,190 : INFO : GET Artist Album: Killswitch Engage (2009)\n",
      "2018-01-30 19:49:40,481 : INFO : GET Artist Album Successful: Killswitch Engage (2009)\n"
     ]
    },
    {
     "name": "stdout",
     "output_type": "stream",
     "text": [
      "done Killswitch Engage\n"
     ]
    },
    {
     "name": "stderr",
     "output_type": "stream",
     "text": [
      "2018-01-30 19:49:42,734 : INFO : GET Artist URL: http://lyrics.wikia.com/wiki/Chiodos\n",
      "2018-01-30 19:49:44,847 : INFO : GET Artist Album: Misc (0000)\n",
      "2018-01-30 19:49:44,848 : INFO : GET Artist Album Successful: Misc (0000)\n",
      "2018-01-30 19:49:44,849 : INFO : GET Artist Album: Bone Palace Ballet (2007)\n",
      "2018-01-30 19:50:06,667 : INFO : GET Artist Album Successful: Bone Palace Ballet (2007)\n",
      "2018-01-30 19:50:06,668 : INFO : GET Artist Album: Devil (2014)\n",
      "2018-01-30 19:50:24,039 : INFO : GET Artist Album Successful: Devil (2014)\n",
      "2018-01-30 19:50:24,040 : INFO : GET Artist Album: Illuminaudio (2010)\n",
      "2018-01-30 19:50:39,853 : INFO : GET Artist Album Successful: Illuminaudio (2010)\n",
      "2018-01-30 19:50:39,854 : INFO : GET Artist Album: All's Well That Ends Well (2005)\n",
      "2018-01-30 19:50:54,792 : INFO : GET Artist Album Successful: All's Well That Ends Well (2005)\n",
      "2018-01-30 19:50:54,792 : INFO : GET Artist Album: Edit\n",
      "2018-01-30 19:50:57,639 : INFO : GET Artist Album Successful: Edit\n",
      "2018-01-30 19:50:57,640 : INFO : GET Artist Album: The Heartless Control Everything (2003)\n",
      "2018-01-30 19:51:06,631 : INFO : GET Artist Album Successful: The Heartless Control Everything (2003)\n",
      "2018-01-30 19:51:06,632 : INFO : GET Artist Album: The Chiodos Bros. (2001)\n",
      "2018-01-30 19:51:14,782 : INFO : GET Artist Album Successful: The Chiodos Bros. (2001)\n",
      "2018-01-30 19:51:14,783 : INFO : GET Artist Album: The Best Way To Ruin Your Life (2002)\n",
      "2018-01-30 19:51:19,501 : INFO : GET Artist Album Successful: The Best Way To Ruin Your Life (2002)\n"
     ]
    },
    {
     "name": "stdout",
     "output_type": "stream",
     "text": [
      "done Chiodos\n"
     ]
    },
    {
     "name": "stderr",
     "output_type": "stream",
     "text": [
      "2018-01-30 19:51:21,561 : INFO : GET Artist URL: http://lyrics.wikia.com/wiki/Atreyu\n",
      "2018-01-30 19:51:22,678 : INFO : GET Artist Album: Lead Sails Paper Anchor 2.0 (2008)\n",
      "2018-01-30 19:51:31,521 : INFO : GET Artist Album Successful: Lead Sails Paper Anchor 2.0 (2008)\n",
      "2018-01-30 19:51:31,522 : INFO : GET Artist Album: Congregation Of The Damned (2009)\n",
      "2018-01-30 19:51:47,817 : INFO : GET Artist Album Successful: Congregation Of The Damned (2009)\n",
      "2018-01-30 19:51:47,818 : INFO : GET Artist Album: Suicide Notes And Butterfly Kisses (2002)\n",
      "2018-01-30 19:51:59,322 : INFO : GET Artist Album Successful: Suicide Notes And Butterfly Kisses (2002)\n",
      "2018-01-30 19:51:59,323 : INFO : GET Artist Album: Edit\n",
      "2018-01-30 19:52:01,128 : INFO : GET Artist Album Successful: Edit\n",
      "2018-01-30 19:52:01,129 : INFO : GET Artist Album: Visions (1999)\n",
      "2018-01-30 19:52:12,021 : INFO : GET Artist Album Successful: Visions (1999)\n",
      "2018-01-30 19:52:12,022 : INFO : GET Artist Album: Fractures In The Façade Of Your Porcelain Beauty (2001)\n",
      "2018-01-30 19:52:17,796 : INFO : GET Artist Album Successful: Fractures In The Façade Of Your Porcelain Beauty (2001)\n",
      "2018-01-30 19:52:17,796 : INFO : GET Artist Album: Misc (0000)\n",
      "2018-01-30 19:52:17,797 : INFO : GET Artist Album Successful: Misc (0000)\n",
      "2018-01-30 19:52:17,798 : INFO : GET Artist Album: A Death-Grip on Yesterday (2006)\n",
      "2018-01-30 19:52:23,247 : INFO : GET Artist Album Successful: A Death-Grip on Yesterday (2006)\n",
      "2018-01-30 19:52:23,248 : INFO : GET Artist Album: Long Live (2015)\n",
      "2018-01-30 19:52:43,467 : INFO : GET Artist Album Successful: Long Live (2015)\n",
      "2018-01-30 19:52:43,467 : INFO : GET Artist Album: Lead Sails Paper Anchor (2007)\n",
      "2018-01-30 19:52:48,108 : INFO : GET Artist Album Successful: Lead Sails Paper Anchor (2007)\n",
      "2018-01-30 19:52:48,108 : INFO : GET Artist Album: The Best Of... Atreyu (2007)\n",
      "2018-01-30 19:52:57,332 : INFO : GET Artist Album Successful: The Best Of... Atreyu (2007)\n",
      "2018-01-30 19:52:57,333 : INFO : GET Artist Album: The Curse (2004)\n",
      "2018-01-30 19:53:09,243 : INFO : GET Artist Album Successful: The Curse (2004)\n"
     ]
    },
    {
     "name": "stdout",
     "output_type": "stream",
     "text": [
      "done Atreyu\n"
     ]
    },
    {
     "name": "stderr",
     "output_type": "stream",
     "text": [
      "2018-01-30 19:53:11,666 : INFO : GET Artist URL: http://lyrics.wikia.com/wiki/Whitechapel\n",
      "2018-01-30 19:53:13,715 : INFO : GET Artist Album: Whitechapel (2012)\n",
      "2018-01-30 19:53:26,766 : INFO : GET Artist Album Successful: Whitechapel (2012)\n",
      "2018-01-30 19:53:26,766 : INFO : GET Artist Album: Misc (0000)\n",
      "2018-01-30 19:53:26,767 : INFO : GET Artist Album Successful: Misc (0000)\n",
      "2018-01-30 19:53:26,768 : INFO : GET Artist Album: Recorrupted (2011)\n",
      "2018-01-30 19:53:29,668 : INFO : GET Artist Album Successful: Recorrupted (2011)\n",
      "2018-01-30 19:53:29,669 : INFO : GET Artist Album: This Is Exile (2008)\n",
      "2018-01-30 19:53:38,485 : INFO : GET Artist Album Successful: This Is Exile (2008)\n",
      "2018-01-30 19:53:38,486 : INFO : GET Artist Album: Our Endless War (2014)\n",
      "2018-01-30 19:53:59,282 : INFO : GET Artist Album Successful: Our Endless War (2014)\n",
      "2018-01-30 19:53:59,283 : INFO : GET Artist Album: A New Era of Corruption (2010)\n",
      "2018-01-30 19:54:07,088 : INFO : GET Artist Album Successful: A New Era of Corruption (2010)\n",
      "2018-01-30 19:54:07,089 : INFO : GET Artist Album: The Somatic Defilement (2007)\n",
      "2018-01-30 19:54:11,065 : INFO : GET Artist Album Successful: The Somatic Defilement (2007)\n",
      "2018-01-30 19:54:11,066 : INFO : GET Artist Album: Mark of the Blade (2016)\n",
      "2018-01-30 19:54:22,681 : INFO : GET Artist Album Successful: Mark of the Blade (2016)\n"
     ]
    },
    {
     "name": "stdout",
     "output_type": "stream",
     "text": [
      "done Whitechapel\n"
     ]
    },
    {
     "name": "stderr",
     "output_type": "stream",
     "text": [
      "2018-01-30 19:54:23,754 : INFO : GET Artist URL: http://lyrics.wikia.com/wiki/Famous_Last_Words\n",
      "2018-01-30 19:54:25,785 : INFO : GET Artist Album: Misc (0000)\n",
      "2018-01-30 19:54:25,786 : INFO : GET Artist Album Successful: Misc (0000)\n",
      "2018-01-30 19:54:25,787 : INFO : GET Artist Album: Council of the Dead (2014)\n",
      "2018-01-30 19:54:47,623 : INFO : GET Artist Album Successful: Council of the Dead (2014)\n",
      "2018-01-30 19:54:47,624 : INFO : GET Artist Album: Edit\n",
      "2018-01-30 19:54:50,223 : INFO : GET Artist Album Successful: Edit\n",
      "2018-01-30 19:54:50,224 : INFO : GET Artist Album: The Incubus (2016)\n",
      "2018-01-30 19:55:06,960 : INFO : GET Artist Album Successful: The Incubus (2016)\n",
      "2018-01-30 19:55:06,962 : INFO : GET Artist Album: Two-Faced Charade (2013)\n",
      "2018-01-30 19:55:15,847 : INFO : GET Artist Album Successful: Two-Faced Charade (2013)\n",
      "2018-01-30 19:55:15,848 : INFO : GET Artist Album: Pick Your Poison (2012)\n",
      "2018-01-30 19:55:26,878 : INFO : GET Artist Album Successful: Pick Your Poison (2012)\n"
     ]
    },
    {
     "name": "stdout",
     "output_type": "stream",
     "text": [
      "done Famous Last Words\n"
     ]
    },
    {
     "name": "stderr",
     "output_type": "stream",
     "text": [
      "2018-01-30 19:55:30,114 : INFO : GET Artist URL: http://lyrics.wikia.com/wiki/Attack_Attack!\n",
      "2018-01-30 19:55:30,897 : INFO : GET Artist Album: Misc (0000)\n",
      "2018-01-30 19:55:30,898 : INFO : GET Artist Album Successful: Misc (0000)\n",
      "2018-01-30 19:55:30,899 : INFO : GET Artist Album: Edit\n",
      "2018-01-30 19:55:30,900 : INFO : GET Artist Album Successful: Edit\n",
      "2018-01-30 19:55:30,900 : INFO : GET Artist Album: This Means War (2012)\n",
      "2018-01-30 19:55:39,960 : INFO : GET Artist Album Successful: This Means War (2012)\n",
      "2018-01-30 19:55:39,961 : INFO : GET Artist Album: Someday Came Suddenly (2008)\n",
      "2018-01-30 19:55:55,856 : INFO : GET Artist Album Successful: Someday Came Suddenly (2008)\n",
      "2018-01-30 19:55:55,857 : INFO : GET Artist Album: Attack Attack! (2010)\n",
      "2018-01-30 19:56:09,310 : INFO : GET Artist Album Successful: Attack Attack! (2010)\n",
      "2018-01-30 19:56:09,311 : INFO : GET Artist Album: If Guns Are Outlawed, Can We Use Swords? (2008)\n",
      "2018-01-30 19:56:17,678 : INFO : GET Artist Album Successful: If Guns Are Outlawed, Can We Use Swords? (2008)\n"
     ]
    },
    {
     "name": "stdout",
     "output_type": "stream",
     "text": [
      "done Attack Attack!\n"
     ]
    },
    {
     "name": "stderr",
     "output_type": "stream",
     "text": [
      "2018-01-30 19:56:18,507 : INFO : GET Artist URL: http://lyrics.wikia.com/wiki/Alexisonfire\n",
      "2018-01-30 19:56:19,448 : INFO : GET Artist Album: Misc (0000)\n",
      "2018-01-30 19:56:19,449 : INFO : GET Artist Album Successful: Misc (0000)\n",
      "2018-01-30 19:56:19,449 : INFO : GET Artist Album: Old Crows/Young Cardinals (2009)\n",
      "2018-01-30 19:56:31,739 : INFO : GET Artist Album Successful: Old Crows/Young Cardinals (2009)\n",
      "2018-01-30 19:56:31,740 : INFO : GET Artist Album: Edit\n",
      "2018-01-30 19:56:35,440 : INFO : GET Artist Album Successful: Edit\n",
      "2018-01-30 19:56:35,441 : INFO : GET Artist Album: Watch Out! (2004)\n",
      "2018-01-30 19:56:42,060 : INFO : GET Artist Album Successful: Watch Out! (2004)\n",
      "2018-01-30 19:56:42,061 : INFO : GET Artist Album: Crisis (2006)\n",
      "2018-01-30 19:56:49,685 : INFO : GET Artist Album Successful: Crisis (2006)\n",
      "2018-01-30 19:56:49,686 : INFO : GET Artist Album: Alexisonfire (2002)\n",
      "2018-01-30 19:56:55,384 : INFO : GET Artist Album Successful: Alexisonfire (2002)\n"
     ]
    },
    {
     "name": "stdout",
     "output_type": "stream",
     "text": [
      "done Alexisonfire\n"
     ]
    },
    {
     "name": "stderr",
     "output_type": "stream",
     "text": [
      "2018-01-30 19:56:58,167 : INFO : GET Artist URL: http://lyrics.wikia.com/wiki/Underoath\n",
      "2018-01-30 19:56:59,053 : INFO : GET Artist Album: Act of Depression (1999)\n",
      "2018-01-30 19:57:07,839 : INFO : GET Artist Album Successful: Act of Depression (1999)\n",
      "2018-01-30 19:57:07,840 : INFO : GET Artist Album: The Changing of Times (2002)\n",
      "2018-01-30 19:57:22,222 : INFO : GET Artist Album Successful: The Changing of Times (2002)\n",
      "2018-01-30 19:57:22,222 : INFO : GET Artist Album: Misc (0000)\n",
      "2018-01-30 19:57:22,223 : INFO : GET Artist Album Successful: Misc (0000)\n",
      "2018-01-30 19:57:22,224 : INFO : GET Artist Album: Edit\n",
      "2018-01-30 19:57:22,225 : INFO : GET Artist Album Successful: Edit\n",
      "2018-01-30 19:57:22,226 : INFO : GET Artist Album: Lost in the Sound of Separation (2008)\n",
      "2018-01-30 19:57:31,934 : INFO : GET Artist Album Successful: Lost in the Sound of Separation (2008)\n",
      "2018-01-30 19:57:31,935 : INFO : GET Artist Album: They're Only Chasing Safety (2004)\n",
      "2018-01-30 19:57:46,660 : INFO : GET Artist Album Successful: They're Only Chasing Safety (2004)\n",
      "2018-01-30 19:57:46,661 : INFO : GET Artist Album: Ø (Disambiguation) (2010)\n",
      "2018-01-30 19:57:53,878 : INFO : GET Artist Album Successful: Ø (Disambiguation) (2010)\n",
      "2018-01-30 19:57:53,879 : INFO : GET Artist Album: Define the Great Line (2006)\n",
      "2018-01-30 19:58:01,177 : INFO : GET Artist Album Successful: Define the Great Line (2006)\n",
      "2018-01-30 19:58:01,178 : INFO : GET Artist Album: Cries of the Past (2000)\n",
      "2018-01-30 19:58:05,926 : INFO : GET Artist Album Successful: Cries of the Past (2000)\n"
     ]
    },
    {
     "name": "stdout",
     "output_type": "stream",
     "text": [
      "done Underoath\n"
     ]
    },
    {
     "name": "stderr",
     "output_type": "stream",
     "text": [
      "2018-01-30 19:58:07,829 : INFO : GET Artist URL: http://lyrics.wikia.com/wiki/Get_Scared\n",
      "2018-01-30 19:58:09,599 : INFO : GET Artist Album: Cheap Tricks and Theatrics (2009)\n",
      "2018-01-30 19:58:16,418 : INFO : GET Artist Album Successful: Cheap Tricks and Theatrics (2009)\n",
      "2018-01-30 19:58:16,419 : INFO : GET Artist Album: Misc (0000)\n",
      "2018-01-30 19:58:16,420 : INFO : GET Artist Album Successful: Misc (0000)\n",
      "2018-01-30 19:58:16,421 : INFO : GET Artist Album: Edit\n",
      "2018-01-30 19:58:16,422 : INFO : GET Artist Album Successful: Edit\n",
      "2018-01-30 19:58:16,423 : INFO : GET Artist Album: Cheap Tricks and Theatrics B-Sides (2011)\n",
      "2018-01-30 19:58:22,841 : INFO : GET Artist Album Successful: Cheap Tricks and Theatrics B-Sides (2011)\n",
      "2018-01-30 19:58:22,842 : INFO : GET Artist Album: Built for Blame, Laced with Shame (2012)\n",
      "2018-01-30 19:58:26,136 : INFO : GET Artist Album Successful: Built for Blame, Laced with Shame (2012)\n",
      "2018-01-30 19:58:26,137 : INFO : GET Artist Album: Demons (2015)\n",
      "2018-01-30 19:58:42,197 : INFO : GET Artist Album Successful: Demons (2015)\n",
      "2018-01-30 19:58:42,198 : INFO : GET Artist Album: Get Scared (2010)\n",
      "2018-01-30 19:58:43,111 : INFO : GET Artist Album Successful: Get Scared (2010)\n",
      "2018-01-30 19:58:43,112 : INFO : GET Artist Album: Best Kind of Mess (2011)\n",
      "2018-01-30 19:58:46,816 : INFO : GET Artist Album Successful: Best Kind of Mess (2011)\n",
      "2018-01-30 19:58:46,817 : INFO : GET Artist Album: Everyone's Out to Get Me (2013)\n",
      "2018-01-30 19:58:57,501 : INFO : GET Artist Album Successful: Everyone's Out to Get Me (2013)\n"
     ]
    },
    {
     "name": "stdout",
     "output_type": "stream",
     "text": [
      "done Get Scared\n"
     ]
    },
    {
     "name": "stderr",
     "output_type": "stream",
     "text": [
      "2018-01-30 19:59:00,168 : INFO : GET Artist URL: http://lyrics.wikia.com/wiki/Funeral_For_A_Friend\n",
      "2018-01-30 19:59:00,893 : INFO : GET Artist Album: Your History Is Mine: 2002-2009 (2009)\n",
      "2018-01-30 19:59:40,330 : INFO : GET Artist Album Successful: Your History Is Mine: 2002-2009 (2009)\n",
      "2018-01-30 19:59:40,331 : INFO : GET Artist Album: Four Ways to Scream Your Name (2003)\n",
      "2018-01-30 19:59:41,312 : INFO : GET Artist Album Successful: Four Ways to Scream Your Name (2003)\n",
      "2018-01-30 19:59:41,313 : INFO : GET Artist Album: Edit\n",
      "2018-01-30 19:59:43,482 : INFO : GET Artist Album Successful: Edit\n",
      "2018-01-30 19:59:43,483 : INFO : GET Artist Album: Welcome Home Armageddon (2011)\n",
      "2018-01-30 19:59:58,059 : INFO : GET Artist Album Successful: Welcome Home Armageddon (2011)\n",
      "2018-01-30 19:59:58,060 : INFO : GET Artist Album: Seven Ways to Scream Your Name  (2003)\n",
      "2018-01-30 20:00:00,528 : INFO : GET Artist Album Successful: Seven Ways to Scream Your Name  (2003)\n",
      "2018-01-30 20:00:00,529 : INFO : GET Artist Album: Tales Don't Tell Themselves (2007)\n",
      "2018-01-30 20:00:09,275 : INFO : GET Artist Album Successful: Tales Don't Tell Themselves (2007)\n",
      "2018-01-30 20:00:09,276 : INFO : GET Artist Album: Memory And Humanity (2008)\n",
      "2018-01-30 20:00:20,745 : INFO : GET Artist Album Successful: Memory And Humanity (2008)\n",
      "2018-01-30 20:00:20,746 : INFO : GET Artist Album: Between Order and Model (2002)\n",
      "2018-01-30 20:00:21,536 : INFO : GET Artist Album Successful: Between Order and Model (2002)\n",
      "2018-01-30 20:00:21,537 : INFO : GET Artist Album: Chapter and Verse (2015)\n",
      "2018-01-30 20:00:36,111 : INFO : GET Artist Album Successful: Chapter and Verse (2015)\n",
      "2018-01-30 20:00:36,112 : INFO : GET Artist Album: Misc (0000)\n",
      "2018-01-30 20:00:36,113 : INFO : GET Artist Album Successful: Misc (0000)\n",
      "2018-01-30 20:00:36,114 : INFO : GET Artist Album: Hours (2005)\n",
      "2018-01-30 20:00:46,285 : INFO : GET Artist Album Successful: Hours (2005)\n",
      "2018-01-30 20:00:46,286 : INFO : GET Artist Album: The Young and Defenceless (2010)\n",
      "2018-01-30 20:00:51,393 : INFO : GET Artist Album Successful: The Young and Defenceless (2010)\n",
      "2018-01-30 20:00:51,394 : INFO : GET Artist Album: Casually Dressed & Deep in Conversation (2003)\n",
      "2018-01-30 20:01:03,425 : INFO : GET Artist Album Successful: Casually Dressed & Deep in Conversation (2003)\n",
      "2018-01-30 20:01:03,426 : INFO : GET Artist Album: Conduit (2013)\n",
      "2018-01-30 20:01:16,069 : INFO : GET Artist Album Successful: Conduit (2013)\n"
     ]
    },
    {
     "name": "stdout",
     "output_type": "stream",
     "text": [
      "done Funeral for a Friend\n"
     ]
    },
    {
     "name": "stderr",
     "output_type": "stream",
     "text": [
      "2018-01-30 20:01:18,689 : INFO : GET Artist URL: http://lyrics.wikia.com/wiki/Marilyn_Manson\n",
      "2018-01-30 20:01:18,999 : INFO : GET Artist Album: Holy Wood (2000)\n",
      "2018-01-30 20:01:35,091 : INFO : GET Artist Album Successful: Holy Wood (2000)\n",
      "2018-01-30 20:01:35,091 : INFO : GET Artist Album: Lest We Forget: The Best Of (2004)\n",
      "2018-01-30 20:01:35,871 : INFO : GET Artist Album Successful: Lest We Forget: The Best Of (2004)\n",
      "2018-01-30 20:01:35,872 : INFO : GET Artist Album: Misc (0000)\n",
      "2018-01-30 20:01:35,873 : INFO : GET Artist Album Successful: Misc (0000)\n",
      "2018-01-30 20:01:35,873 : INFO : GET Artist Album: The Golden Age of Grotesque (2003)\n",
      "2018-01-30 20:01:45,150 : INFO : GET Artist Album Successful: The Golden Age of Grotesque (2003)\n",
      "2018-01-30 20:01:45,151 : INFO : GET Artist Album: Smells Like Children (1995)\n",
      "2018-01-30 20:01:53,456 : INFO : GET Artist Album Successful: Smells Like Children (1995)\n",
      "2018-01-30 20:01:53,457 : INFO : GET Artist Album: Eat Me, Drink Me (2007)\n",
      "2018-01-30 20:02:06,198 : INFO : GET Artist Album Successful: Eat Me, Drink Me (2007)\n",
      "2018-01-30 20:02:06,199 : INFO : GET Artist Album: Edit\n",
      "2018-01-30 20:02:17,077 : INFO : GET Artist Album Successful: Edit\n",
      "2018-01-30 20:02:17,078 : INFO : GET Artist Album: The Last Tour On Earth (1999)\n",
      "2018-01-30 20:02:19,300 : INFO : GET Artist Album Successful: The Last Tour On Earth (1999)\n",
      "2018-01-30 20:02:19,301 : INFO : GET Artist Album: Heaven Upside Down (2017)\n",
      "2018-01-30 20:02:27,494 : INFO : GET Artist Album Successful: Heaven Upside Down (2017)\n",
      "2018-01-30 20:02:27,495 : INFO : GET Artist Album: Born Villain (2012)\n",
      "2018-01-30 20:02:39,439 : INFO : GET Artist Album Successful: Born Villain (2012)\n",
      "2018-01-30 20:02:39,440 : INFO : GET Artist Album: The High End of Low (2009)\n",
      "2018-01-30 20:02:56,486 : INFO : GET Artist Album Successful: The High End of Low (2009)\n",
      "2018-01-30 20:02:56,487 : INFO : GET Artist Album: Portrait of an American Family (1994)\n",
      "2018-01-30 20:03:08,329 : INFO : GET Artist Album Successful: Portrait of an American Family (1994)\n",
      "2018-01-30 20:03:08,330 : INFO : GET Artist Album: Mechanical Animals (1998)\n",
      "2018-01-30 20:03:16,651 : INFO : GET Artist Album Successful: Mechanical Animals (1998)\n",
      "2018-01-30 20:03:16,652 : INFO : GET Artist Album: Antichrist Superstar (1996)\n",
      "2018-01-30 20:03:26,452 : INFO : GET Artist Album Successful: Antichrist Superstar (1996)\n",
      "2018-01-30 20:03:26,453 : INFO : GET Artist Album: The Pale Emperor (2015)\n",
      "2018-01-30 20:03:31,848 : INFO : GET Artist Album Successful: The Pale Emperor (2015)\n"
     ]
    },
    {
     "name": "stdout",
     "output_type": "stream",
     "text": [
      "done Marilyn Manson\n"
     ]
    },
    {
     "name": "stderr",
     "output_type": "stream",
     "text": [
      "2018-01-30 20:03:35,123 : INFO : GET Artist URL: http://lyrics.wikia.com/wiki/Senses_Fail\n",
      "2018-01-30 20:03:35,430 : INFO : GET Artist Album: Pull The Thorns From Your Heart  (2015)\n",
      "2018-01-30 20:03:50,916 : INFO : GET Artist Album Successful: Pull The Thorns From Your Heart  (2015)\n",
      "2018-01-30 20:03:50,917 : INFO : GET Artist Album: From the Depths of Dreams (2002)\n",
      "2018-01-30 20:03:56,352 : INFO : GET Artist Album Successful: From the Depths of Dreams (2002)\n",
      "2018-01-30 20:03:56,353 : INFO : GET Artist Album: Life Is Not a Waiting Room (2008)\n",
      "2018-01-30 20:04:18,588 : INFO : GET Artist Album Successful: Life Is Not a Waiting Room (2008)\n",
      "2018-01-30 20:04:18,588 : INFO : GET Artist Album: Follow Your Bliss (2012)\n",
      "2018-01-30 20:04:33,484 : INFO : GET Artist Album Successful: Follow Your Bliss (2012)\n",
      "2018-01-30 20:04:33,485 : INFO : GET Artist Album: Misc (0000)\n",
      "2018-01-30 20:04:33,486 : INFO : GET Artist Album Successful: Misc (0000)\n",
      "2018-01-30 20:04:33,486 : INFO : GET Artist Album: Let It Enfold You (2004)\n",
      "2018-01-30 20:04:53,096 : INFO : GET Artist Album Successful: Let It Enfold You (2004)\n",
      "2018-01-30 20:04:53,096 : INFO : GET Artist Album: Edit\n",
      "2018-01-30 20:05:00,506 : INFO : GET Artist Album Successful: Edit\n",
      "2018-01-30 20:05:00,507 : INFO : GET Artist Album: Renacer (2013)\n",
      "2018-01-30 20:05:07,338 : INFO : GET Artist Album Successful: Renacer (2013)\n",
      "2018-01-30 20:05:07,339 : INFO : GET Artist Album: The Fire (2010)\n",
      "2018-01-30 20:05:13,826 : INFO : GET Artist Album Successful: The Fire (2010)\n",
      "2018-01-30 20:05:13,827 : INFO : GET Artist Album: Still Searching (2006)\n",
      "2018-01-30 20:05:38,289 : INFO : GET Artist Album Successful: Still Searching (2006)\n"
     ]
    },
    {
     "name": "stdout",
     "output_type": "stream",
     "text": [
      "done Senses Fail\n"
     ]
    },
    {
     "name": "stderr",
     "output_type": "stream",
     "text": [
      "2018-01-30 20:05:40,249 : INFO : GET Artist URL: http://lyrics.wikia.com/wiki/Hawthorne_Heights\n",
      "2018-01-30 20:05:42,268 : INFO : GET Artist Album: Misc (0000)\n",
      "2018-01-30 20:05:42,269 : INFO : GET Artist Album Successful: Misc (0000)\n",
      "2018-01-30 20:05:42,270 : INFO : GET Artist Album: Hurt (2015)\n"
     ]
    }
   ],
   "source": [
    "import thecypher\n",
    "import pandas as pd\n",
    "\n",
    "for artist in artists:\n",
    "    \n",
    "    artist_lyrics = thecypher.get_lyrics(artist)\n",
    "    \n",
    "    for row in artist_lyrics:\n",
    "        row['ranker_genre'] = 'screamo'\n",
    "        \n",
    "    lyrics_df = pd.DataFrame(artist_lyrics)\n",
    "    lyrics_df.to_sql('lyrics', con=engine, if_exists='append', index=False)\n",
    "    print('done ' + artist)"
   ]
  },
  {
   "cell_type": "code",
   "execution_count": null,
   "metadata": {
    "collapsed": true
   },
   "outputs": [],
   "source": []
  },
  {
   "cell_type": "code",
   "execution_count": null,
   "metadata": {
    "collapsed": true
   },
   "outputs": [],
   "source": []
  },
  {
   "cell_type": "code",
   "execution_count": null,
   "metadata": {
    "collapsed": true
   },
   "outputs": [],
   "source": []
  }
 ],
 "metadata": {
  "kernelspec": {
   "display_name": "Python 2",
   "language": "python",
   "name": "python2"
  },
  "language_info": {
   "codemirror_mode": {
    "name": "ipython",
    "version": 2
   },
   "file_extension": ".py",
   "mimetype": "text/x-python",
   "name": "python",
   "nbconvert_exporter": "python",
   "pygments_lexer": "ipython2",
   "version": "2.7.13"
  }
 },
 "nbformat": 4,
 "nbformat_minor": 2
}
